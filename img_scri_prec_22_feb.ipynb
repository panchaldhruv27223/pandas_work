{
 "cells": [
  {
   "cell_type": "markdown",
   "id": "42340a45",
   "metadata": {},
   "source": [
    "Go to this given URL and solve the following questions\n",
    "\n",
    "URL: https://www.youtube.com/@PW-Foundation/videos\n",
    "        \n",
    "Q1. Write a python program to extract the video URL of the first five videos.\n",
    "\n",
    "Q2. Write a python program to extract the URL of the video thumbnails of the first five videos.\n",
    "\n",
    "Q3. Write a python program to extract the title of the first five videos.\n",
    "\n",
    "Q4. Write a python program to extract the number of views of the first five videos.\n",
    "\n",
    "Q5. Write a python program to extract the time of posting of video for the first five videos.\n",
    "Note: Save all the data scraped in the above questions in a CSV file.\n",
    "    \n",
    "Create a simple UI with all functionalities mentioned above and deploy it in AWS.\n",
    "    \n",
    "Note: Create your assignment in Jupyter notebook and upload it to GitHub & share that uploaded\n",
    "assignment file link through your dashboard. Make sure the repository is public. Submit your\n",
    "deployment link as well."
   ]
  },
  {
   "cell_type": "code",
   "execution_count": 1,
   "id": "daf9324d",
   "metadata": {},
   "outputs": [
    {
     "name": "stdout",
     "output_type": "stream",
     "text": [
      "Collecting selenium\n",
      "  Downloading selenium-4.10.0-py3-none-any.whl (6.7 MB)\n",
      "                                              0.0/6.7 MB ? eta -:--:--\n",
      "                                              0.0/6.7 MB ? eta -:--:--\n",
      "                                              0.1/6.7 MB 1.0 MB/s eta 0:00:07\n",
      "                                              0.1/6.7 MB 1.1 MB/s eta 0:00:07\n",
      "     -                                        0.2/6.7 MB 1.3 MB/s eta 0:00:06\n",
      "     -                                        0.3/6.7 MB 1.2 MB/s eta 0:00:06\n",
      "     --                                       0.3/6.7 MB 1.2 MB/s eta 0:00:06\n",
      "     --                                       0.4/6.7 MB 1.2 MB/s eta 0:00:06\n",
      "     --                                       0.4/6.7 MB 1.2 MB/s eta 0:00:06\n",
      "     ---                                      0.5/6.7 MB 1.3 MB/s eta 0:00:05\n",
      "     ---                                      0.6/6.7 MB 1.3 MB/s eta 0:00:05\n",
      "     ---                                      0.7/6.7 MB 1.3 MB/s eta 0:00:05\n",
      "     ----                                     0.7/6.7 MB 1.3 MB/s eta 0:00:05\n",
      "     ----                                     0.8/6.7 MB 1.3 MB/s eta 0:00:05\n",
      "     ----                                     0.8/6.7 MB 1.3 MB/s eta 0:00:05\n",
      "     -----                                    0.9/6.7 MB 1.3 MB/s eta 0:00:05\n",
      "     -----                                    1.0/6.7 MB 1.3 MB/s eta 0:00:05\n",
      "     ------                                   1.0/6.7 MB 1.3 MB/s eta 0:00:05\n",
      "     ------                                   1.1/6.7 MB 1.3 MB/s eta 0:00:05\n",
      "     ------                                   1.1/6.7 MB 1.3 MB/s eta 0:00:05\n",
      "     ------                                   1.2/6.7 MB 1.3 MB/s eta 0:00:05\n",
      "     -------                                  1.2/6.7 MB 1.3 MB/s eta 0:00:05\n",
      "     -------                                  1.3/6.7 MB 1.3 MB/s eta 0:00:05\n",
      "     --------                                 1.4/6.7 MB 1.3 MB/s eta 0:00:04\n",
      "     --------                                 1.5/6.7 MB 1.4 MB/s eta 0:00:04\n",
      "     ---------                                1.6/6.7 MB 1.4 MB/s eta 0:00:04\n",
      "     ----------                               1.7/6.7 MB 1.4 MB/s eta 0:00:04\n",
      "     ----------                               1.8/6.7 MB 1.4 MB/s eta 0:00:04\n",
      "     -----------                              1.8/6.7 MB 1.4 MB/s eta 0:00:04\n",
      "     -----------                              1.9/6.7 MB 1.4 MB/s eta 0:00:04\n",
      "     -----------                              2.0/6.7 MB 1.4 MB/s eta 0:00:04\n",
      "     ------------                             2.0/6.7 MB 1.4 MB/s eta 0:00:04\n",
      "     ------------                             2.1/6.7 MB 1.4 MB/s eta 0:00:04\n",
      "     -------------                            2.3/6.7 MB 1.5 MB/s eta 0:00:03\n",
      "     --------------                           2.4/6.7 MB 1.5 MB/s eta 0:00:03\n",
      "     --------------                           2.4/6.7 MB 1.5 MB/s eta 0:00:03\n",
      "     ---------------                          2.5/6.7 MB 1.5 MB/s eta 0:00:03\n",
      "     ---------------                          2.6/6.7 MB 1.5 MB/s eta 0:00:03\n",
      "     ----------------                         2.8/6.7 MB 1.6 MB/s eta 0:00:03\n",
      "     ----------------                         2.8/6.7 MB 1.6 MB/s eta 0:00:03\n",
      "     -----------------                        2.9/6.7 MB 1.6 MB/s eta 0:00:03\n",
      "     ------------------                       3.0/6.7 MB 1.6 MB/s eta 0:00:03\n",
      "     ------------------                       3.1/6.7 MB 1.6 MB/s eta 0:00:03\n",
      "     -------------------                      3.2/6.7 MB 1.6 MB/s eta 0:00:03\n",
      "     --------------------                     3.3/6.7 MB 1.6 MB/s eta 0:00:03\n",
      "     --------------------                     3.5/6.7 MB 1.7 MB/s eta 0:00:02\n",
      "     ---------------------                    3.6/6.7 MB 1.7 MB/s eta 0:00:02\n",
      "     ----------------------                   3.7/6.7 MB 1.7 MB/s eta 0:00:02\n",
      "     ----------------------                   3.8/6.7 MB 1.7 MB/s eta 0:00:02\n",
      "     -----------------------                  4.0/6.7 MB 1.7 MB/s eta 0:00:02\n",
      "     ------------------------                 4.1/6.7 MB 1.8 MB/s eta 0:00:02\n",
      "     -------------------------                4.2/6.7 MB 1.8 MB/s eta 0:00:02\n",
      "     --------------------------               4.4/6.7 MB 1.8 MB/s eta 0:00:02\n",
      "     --------------------------               4.5/6.7 MB 1.8 MB/s eta 0:00:02\n",
      "     ---------------------------              4.6/6.7 MB 1.8 MB/s eta 0:00:02\n",
      "     ----------------------------             4.7/6.7 MB 1.9 MB/s eta 0:00:02\n",
      "     ----------------------------             4.8/6.7 MB 1.9 MB/s eta 0:00:01\n",
      "     -----------------------------            4.9/6.7 MB 1.9 MB/s eta 0:00:01\n",
      "     ------------------------------           5.1/6.7 MB 1.9 MB/s eta 0:00:01\n",
      "     -------------------------------          5.2/6.7 MB 1.9 MB/s eta 0:00:01\n",
      "     -------------------------------          5.3/6.7 MB 1.9 MB/s eta 0:00:01\n",
      "     --------------------------------         5.4/6.7 MB 1.9 MB/s eta 0:00:01\n",
      "     ---------------------------------        5.6/6.7 MB 1.9 MB/s eta 0:00:01\n",
      "     ----------------------------------       5.7/6.7 MB 2.0 MB/s eta 0:00:01\n",
      "     ----------------------------------       5.8/6.7 MB 2.0 MB/s eta 0:00:01\n",
      "     ----------------------------------       5.8/6.7 MB 1.9 MB/s eta 0:00:01\n",
      "     -----------------------------------      5.9/6.7 MB 1.9 MB/s eta 0:00:01\n",
      "     -----------------------------------      6.0/6.7 MB 1.9 MB/s eta 0:00:01\n",
      "     ------------------------------------     6.2/6.7 MB 2.0 MB/s eta 0:00:01\n",
      "     -------------------------------------    6.3/6.7 MB 2.0 MB/s eta 0:00:01\n",
      "     --------------------------------------   6.4/6.7 MB 2.0 MB/s eta 0:00:01\n",
      "     ---------------------------------------  6.6/6.7 MB 2.0 MB/s eta 0:00:01\n",
      "     ---------------------------------------  6.7/6.7 MB 2.0 MB/s eta 0:00:01\n",
      "     ---------------------------------------- 6.7/6.7 MB 2.0 MB/s eta 0:00:00\n",
      "Requirement already satisfied: urllib3[socks]<3,>=1.26 in c:\\users\\dhruv\\appdata\\local\\programs\\python\\python39\\lib\\site-packages (from selenium) (1.26.12)\n",
      "Collecting trio~=0.17 (from selenium)\n",
      "  Downloading trio-0.22.0-py3-none-any.whl (384 kB)\n",
      "                                              0.0/384.9 kB ? eta -:--:--\n",
      "     ---------------                        153.6/384.9 kB 9.0 MB/s eta 0:00:01\n",
      "     ----------------------------           286.7/384.9 kB 4.5 MB/s eta 0:00:01\n",
      "     -------------------------------------- 384.9/384.9 kB 3.4 MB/s eta 0:00:00\n",
      "Collecting trio-websocket~=0.9 (from selenium)\n",
      "  Downloading trio_websocket-0.10.3-py3-none-any.whl (17 kB)\n",
      "Requirement already satisfied: certifi>=2021.10.8 in c:\\users\\dhruv\\appdata\\local\\programs\\python\\python39\\lib\\site-packages (from selenium) (2022.9.24)\n",
      "Requirement already satisfied: attrs>=19.2.0 in c:\\users\\dhruv\\appdata\\local\\programs\\python\\python39\\lib\\site-packages (from trio~=0.17->selenium) (22.2.0)\n",
      "Collecting sortedcontainers (from trio~=0.17->selenium)\n",
      "  Downloading sortedcontainers-2.4.0-py2.py3-none-any.whl (29 kB)\n",
      "Collecting async-generator>=1.9 (from trio~=0.17->selenium)\n",
      "  Downloading async_generator-1.10-py3-none-any.whl (18 kB)\n",
      "Requirement already satisfied: idna in c:\\users\\dhruv\\appdata\\local\\programs\\python\\python39\\lib\\site-packages (from trio~=0.17->selenium) (3.4)\n",
      "Collecting outcome (from trio~=0.17->selenium)\n",
      "  Downloading outcome-1.2.0-py2.py3-none-any.whl (9.7 kB)\n",
      "Requirement already satisfied: sniffio in c:\\users\\dhruv\\appdata\\local\\programs\\python\\python39\\lib\\site-packages (from trio~=0.17->selenium) (1.3.0)\n",
      "Requirement already satisfied: cffi>=1.14 in c:\\users\\dhruv\\appdata\\local\\programs\\python\\python39\\lib\\site-packages (from trio~=0.17->selenium) (1.15.1)\n",
      "Requirement already satisfied: exceptiongroup>=1.0.0rc9 in c:\\users\\dhruv\\appdata\\local\\programs\\python\\python39\\lib\\site-packages (from trio~=0.17->selenium) (1.1.1)\n",
      "Collecting wsproto>=0.14 (from trio-websocket~=0.9->selenium)\n",
      "  Downloading wsproto-1.2.0-py3-none-any.whl (24 kB)\n",
      "Requirement already satisfied: PySocks!=1.5.7,<2.0,>=1.5.6 in c:\\users\\dhruv\\appdata\\local\\programs\\python\\python39\\lib\\site-packages (from urllib3[socks]<3,>=1.26->selenium) (1.7.1)\n",
      "Requirement already satisfied: pycparser in c:\\users\\dhruv\\appdata\\local\\programs\\python\\python39\\lib\\site-packages (from cffi>=1.14->trio~=0.17->selenium) (2.21)\n",
      "Collecting h11<1,>=0.9.0 (from wsproto>=0.14->trio-websocket~=0.9->selenium)\n",
      "  Downloading h11-0.14.0-py3-none-any.whl (58 kB)\n",
      "                                              0.0/58.3 kB ? eta -:--:--\n",
      "     ---------------------------------------- 58.3/58.3 kB 1.5 MB/s eta 0:00:00\n",
      "Installing collected packages: sortedcontainers, outcome, h11, async-generator, wsproto, trio, trio-websocket, selenium\n",
      "Successfully installed async-generator-1.10 h11-0.14.0 outcome-1.2.0 selenium-4.10.0 sortedcontainers-2.4.0 trio-0.22.0 trio-websocket-0.10.3 wsproto-1.2.0\n",
      "Note: you may need to restart the kernel to use updated packages.\n"
     ]
    }
   ],
   "source": [
    "pip install selenium"
   ]
  },
  {
   "cell_type": "code",
   "execution_count": 8,
   "id": "5eb34840",
   "metadata": {},
   "outputs": [
    {
     "name": "stdout",
     "output_type": "stream",
     "text": [
      "Collecting webdriver_manager\n",
      "  Downloading webdriver_manager-3.8.6-py2.py3-none-any.whl (27 kB)\n",
      "Requirement already satisfied: requests in c:\\users\\dhruv\\appdata\\local\\programs\\python\\python39\\lib\\site-packages (from webdriver_manager) (2.28.1)\n",
      "Collecting python-dotenv (from webdriver_manager)\n",
      "  Downloading python_dotenv-1.0.0-py3-none-any.whl (19 kB)\n",
      "Requirement already satisfied: tqdm in c:\\users\\dhruv\\appdata\\local\\programs\\python\\python39\\lib\\site-packages (from webdriver_manager) (4.65.0)\n",
      "Requirement already satisfied: packaging in c:\\users\\dhruv\\appdata\\local\\programs\\python\\python39\\lib\\site-packages (from webdriver_manager) (23.0)\n",
      "Requirement already satisfied: charset-normalizer<3,>=2 in c:\\users\\dhruv\\appdata\\local\\programs\\python\\python39\\lib\\site-packages (from requests->webdriver_manager) (2.1.1)\n",
      "Requirement already satisfied: idna<4,>=2.5 in c:\\users\\dhruv\\appdata\\local\\programs\\python\\python39\\lib\\site-packages (from requests->webdriver_manager) (3.4)\n",
      "Requirement already satisfied: urllib3<1.27,>=1.21.1 in c:\\users\\dhruv\\appdata\\local\\programs\\python\\python39\\lib\\site-packages (from requests->webdriver_manager) (1.26.12)\n",
      "Requirement already satisfied: certifi>=2017.4.17 in c:\\users\\dhruv\\appdata\\local\\programs\\python\\python39\\lib\\site-packages (from requests->webdriver_manager) (2022.9.24)\n",
      "Requirement already satisfied: colorama in c:\\users\\dhruv\\appdata\\local\\programs\\python\\python39\\lib\\site-packages (from tqdm->webdriver_manager) (0.4.6)\n",
      "Installing collected packages: python-dotenv, webdriver_manager\n",
      "Successfully installed python-dotenv-1.0.0 webdriver_manager-3.8.6\n",
      "Note: you may need to restart the kernel to use updated packages.\n"
     ]
    }
   ],
   "source": [
    "pip install webdriver_manager"
   ]
  },
  {
   "cell_type": "code",
   "execution_count": 1,
   "id": "55ed9614",
   "metadata": {},
   "outputs": [],
   "source": [
    "import requests\n",
    "from bs4 import BeautifulSoup as bs \n",
    "from urllib.request import urlopen\n",
    "import logging\n",
    "from selenium import webdriver\n",
    "import selenium\n",
    "from webdriver_manager.chrome import ChromeDriverManager\n",
    "from selenium.webdriver.chrome.service import Service"
   ]
  },
  {
   "cell_type": "code",
   "execution_count": 2,
   "id": "859c6806",
   "metadata": {},
   "outputs": [],
   "source": [
    "s=Service(ChromeDriverManager().install())\n",
    "driver = webdriver.Chrome(service=s)"
   ]
  },
  {
   "cell_type": "code",
   "execution_count": 3,
   "id": "82a7fce3",
   "metadata": {},
   "outputs": [],
   "source": [
    "from selenium.webdriver.common.by import By"
   ]
  },
  {
   "cell_type": "code",
   "execution_count": 77,
   "id": "7282d8df",
   "metadata": {},
   "outputs": [],
   "source": [
    "# driver = webdriver.Chrome(ChromeDriverManager().install())"
   ]
  },
  {
   "cell_type": "code",
   "execution_count": 4,
   "id": "a45ff39a",
   "metadata": {},
   "outputs": [
    {
     "data": {
      "text/plain": [
       "['CLASS_NAME',\n",
       " 'CSS_SELECTOR',\n",
       " 'ID',\n",
       " 'LINK_TEXT',\n",
       " 'NAME',\n",
       " 'PARTIAL_LINK_TEXT',\n",
       " 'TAG_NAME',\n",
       " 'XPATH',\n",
       " '__class__',\n",
       " '__delattr__',\n",
       " '__dict__',\n",
       " '__dir__',\n",
       " '__doc__',\n",
       " '__eq__',\n",
       " '__format__',\n",
       " '__ge__',\n",
       " '__getattribute__',\n",
       " '__gt__',\n",
       " '__hash__',\n",
       " '__init__',\n",
       " '__init_subclass__',\n",
       " '__le__',\n",
       " '__lt__',\n",
       " '__module__',\n",
       " '__ne__',\n",
       " '__new__',\n",
       " '__reduce__',\n",
       " '__reduce_ex__',\n",
       " '__repr__',\n",
       " '__setattr__',\n",
       " '__sizeof__',\n",
       " '__str__',\n",
       " '__subclasshook__',\n",
       " '__weakref__']"
      ]
     },
     "execution_count": 4,
     "metadata": {},
     "output_type": "execute_result"
    }
   ],
   "source": [
    "dir(By)"
   ]
  },
  {
   "cell_type": "code",
   "execution_count": 4,
   "id": "b9776181",
   "metadata": {},
   "outputs": [],
   "source": [
    "query = \"https://www.youtube.com/@PW-Foundation/videos\""
   ]
  },
  {
   "cell_type": "code",
   "execution_count": 18,
   "id": "9fced2cd",
   "metadata": {},
   "outputs": [
    {
     "data": {
      "text/plain": [
       "'https://www.youtube.com/@PW-Foundation/videos'"
      ]
     },
     "execution_count": 18,
     "metadata": {},
     "output_type": "execute_result"
    }
   ],
   "source": [
    "query"
   ]
  },
  {
   "cell_type": "code",
   "execution_count": 5,
   "id": "933e588f",
   "metadata": {},
   "outputs": [],
   "source": [
    "driver.get(\"https://www.youtube.com/@PW-Foundation/videos\")"
   ]
  },
  {
   "cell_type": "code",
   "execution_count": 6,
   "id": "8ba194da",
   "metadata": {},
   "outputs": [],
   "source": [
    "links = driver.find_elements(By.TAG_NAME,\"a\")"
   ]
  },
  {
   "cell_type": "code",
   "execution_count": 7,
   "id": "a84b2331",
   "metadata": {
    "scrolled": true
   },
   "outputs": [],
   "source": [
    "videolinks = []\n",
    "for i in links :\n",
    "    url = i.get_attribute('href')\n",
    "    videolinks.append(url)"
   ]
  },
  {
   "cell_type": "code",
   "execution_count": 10,
   "id": "2334fb8b",
   "metadata": {},
   "outputs": [
    {
     "data": {
      "text/plain": [
       "['https://www.youtube.com/watch?v=1izKrQHyx9M',\n",
       " 'https://www.youtube.com/watch?v=1izKrQHyx9M',\n",
       " None,\n",
       " 'https://www.youtube.com/watch?v=1izKrQHyx9M',\n",
       " 'https://www.youtube.com/watch?v=jXAb1evxaJc',\n",
       " 'https://www.youtube.com/watch?v=jXAb1evxaJc',\n",
       " None,\n",
       " 'https://www.youtube.com/watch?v=jXAb1evxaJc',\n",
       " 'https://www.youtube.com/watch?v=2dn7XMxRtPE',\n",
       " 'https://www.youtube.com/watch?v=2dn7XMxRtPE',\n",
       " None,\n",
       " 'https://www.youtube.com/watch?v=2dn7XMxRtPE',\n",
       " 'https://www.youtube.com/watch?v=Fks4dVnTb5M',\n",
       " 'https://www.youtube.com/watch?v=Fks4dVnTb5M',\n",
       " None,\n",
       " 'https://www.youtube.com/watch?v=Fks4dVnTb5M',\n",
       " 'https://www.youtube.com/watch?v=nIuGXeISbSo',\n",
       " 'https://www.youtube.com/watch?v=nIuGXeISbSo',\n",
       " None,\n",
       " 'https://www.youtube.com/watch?v=nIuGXeISbSo',\n",
       " 'https://www.youtube.com/watch?v=p9pqo970kjw',\n",
       " 'https://www.youtube.com/watch?v=p9pqo970kjw',\n",
       " None,\n",
       " 'https://www.youtube.com/watch?v=p9pqo970kjw',\n",
       " 'https://www.youtube.com/watch?v=L5G-0FbyAsc',\n",
       " 'https://www.youtube.com/watch?v=L5G-0FbyAsc',\n",
       " None,\n",
       " 'https://www.youtube.com/watch?v=L5G-0FbyAsc',\n",
       " 'https://www.youtube.com/watch?v=uqDX6hcRf2I',\n",
       " 'https://www.youtube.com/watch?v=uqDX6hcRf2I',\n",
       " None,\n",
       " 'https://www.youtube.com/watch?v=uqDX6hcRf2I',\n",
       " 'https://www.youtube.com/watch?v=9ZVfDuqKIQM',\n",
       " 'https://www.youtube.com/watch?v=9ZVfDuqKIQM',\n",
       " None,\n",
       " 'https://www.youtube.com/watch?v=9ZVfDuqKIQM',\n",
       " 'https://www.youtube.com/watch?v=1wMGzlQTyeM',\n",
       " 'https://www.youtube.com/watch?v=1wMGzlQTyeM',\n",
       " None,\n",
       " 'https://www.youtube.com/watch?v=1wMGzlQTyeM',\n",
       " 'https://www.youtube.com/watch?v=ivS0xPAbVUs',\n",
       " 'https://www.youtube.com/watch?v=ivS0xPAbVUs',\n",
       " None,\n",
       " 'https://www.youtube.com/watch?v=ivS0xPAbVUs',\n",
       " 'https://www.youtube.com/watch?v=UJb799ZLCwQ',\n",
       " 'https://www.youtube.com/watch?v=UJb799ZLCwQ',\n",
       " None,\n",
       " 'https://www.youtube.com/watch?v=UJb799ZLCwQ',\n",
       " 'https://www.youtube.com/watch?v=RPCHRtdO9hg',\n",
       " 'https://www.youtube.com/watch?v=RPCHRtdO9hg',\n",
       " None,\n",
       " 'https://www.youtube.com/watch?v=RPCHRtdO9hg',\n",
       " 'https://www.youtube.com/watch?v=iN2UWJW3lzo',\n",
       " 'https://www.youtube.com/watch?v=iN2UWJW3lzo',\n",
       " None,\n",
       " 'https://www.youtube.com/watch?v=iN2UWJW3lzo',\n",
       " 'https://www.youtube.com/watch?v=lRle7Jzciq8',\n",
       " 'https://www.youtube.com/watch?v=lRle7Jzciq8',\n",
       " None,\n",
       " 'https://www.youtube.com/watch?v=lRle7Jzciq8',\n",
       " 'https://www.youtube.com/watch?v=CPmcBN2xoxI',\n",
       " 'https://www.youtube.com/watch?v=CPmcBN2xoxI',\n",
       " None,\n",
       " 'https://www.youtube.com/watch?v=CPmcBN2xoxI',\n",
       " 'https://www.youtube.com/watch?v=mdZ4g2o7v9g',\n",
       " 'https://www.youtube.com/watch?v=mdZ4g2o7v9g',\n",
       " None,\n",
       " 'https://www.youtube.com/watch?v=mdZ4g2o7v9g',\n",
       " 'https://www.youtube.com/watch?v=z3ko4cUOYO0',\n",
       " 'https://www.youtube.com/watch?v=z3ko4cUOYO0',\n",
       " None,\n",
       " 'https://www.youtube.com/watch?v=z3ko4cUOYO0',\n",
       " 'https://www.youtube.com/watch?v=ZLgLCNKQwFw',\n",
       " 'https://www.youtube.com/watch?v=ZLgLCNKQwFw',\n",
       " None,\n",
       " 'https://www.youtube.com/watch?v=ZLgLCNKQwFw',\n",
       " 'https://www.youtube.com/watch?v=J7hFajBOmBo',\n",
       " 'https://www.youtube.com/watch?v=J7hFajBOmBo',\n",
       " None,\n",
       " 'https://www.youtube.com/watch?v=J7hFajBOmBo',\n",
       " 'https://www.youtube.com/watch?v=PXb-jcA2TGA',\n",
       " 'https://www.youtube.com/watch?v=PXb-jcA2TGA',\n",
       " None,\n",
       " 'https://www.youtube.com/watch?v=PXb-jcA2TGA',\n",
       " 'https://www.youtube.com/watch?v=LxHAzwur8cI',\n",
       " 'https://www.youtube.com/watch?v=LxHAzwur8cI',\n",
       " None,\n",
       " 'https://www.youtube.com/watch?v=LxHAzwur8cI',\n",
       " 'https://www.youtube.com/watch?v=sBXHecS1S1w',\n",
       " 'https://www.youtube.com/watch?v=sBXHecS1S1w',\n",
       " None,\n",
       " 'https://www.youtube.com/watch?v=sBXHecS1S1w',\n",
       " 'https://www.youtube.com/watch?v=l6ZY90YnMy0',\n",
       " 'https://www.youtube.com/watch?v=l6ZY90YnMy0',\n",
       " None,\n",
       " 'https://www.youtube.com/watch?v=l6ZY90YnMy0',\n",
       " 'https://www.youtube.com/watch?v=33onjejJLDs',\n",
       " 'https://www.youtube.com/watch?v=33onjejJLDs',\n",
       " None,\n",
       " 'https://www.youtube.com/watch?v=33onjejJLDs',\n",
       " 'https://www.youtube.com/watch?v=o3eOj-jhhfI',\n",
       " 'https://www.youtube.com/watch?v=o3eOj-jhhfI',\n",
       " None,\n",
       " 'https://www.youtube.com/watch?v=o3eOj-jhhfI',\n",
       " 'https://www.youtube.com/watch?v=ecGcmstmnGA',\n",
       " 'https://www.youtube.com/watch?v=ecGcmstmnGA',\n",
       " None,\n",
       " 'https://www.youtube.com/watch?v=ecGcmstmnGA',\n",
       " 'https://www.youtube.com/watch?v=08WWij66k8A',\n",
       " 'https://www.youtube.com/watch?v=08WWij66k8A',\n",
       " None,\n",
       " 'https://www.youtube.com/watch?v=08WWij66k8A',\n",
       " 'https://www.youtube.com/watch?v=bXpeyKIVioA',\n",
       " 'https://www.youtube.com/watch?v=bXpeyKIVioA',\n",
       " None,\n",
       " 'https://www.youtube.com/watch?v=bXpeyKIVioA',\n",
       " 'https://www.youtube.com/watch?v=YwxDKs7jNXs',\n",
       " 'https://www.youtube.com/watch?v=YwxDKs7jNXs',\n",
       " None,\n",
       " 'https://www.youtube.com/watch?v=YwxDKs7jNXs',\n",
       " None,\n",
       " None,\n",
       " None,\n",
       " '',\n",
       " None,\n",
       " None,\n",
       " None,\n",
       " None,\n",
       " None,\n",
       " None,\n",
       " None,\n",
       " None,\n",
       " None,\n",
       " None]"
      ]
     },
     "execution_count": 10,
     "metadata": {},
     "output_type": "execute_result"
    }
   ],
   "source": [
    "videolinks"
   ]
  },
  {
   "cell_type": "code",
   "execution_count": 21,
   "id": "09c1566d",
   "metadata": {},
   "outputs": [
    {
     "data": {
      "text/plain": [
       "['https://www.youtube.com/watch?v=1izKrQHyx9M',\n",
       " 'https://www.youtube.com/watch?v=1izKrQHyx9M',\n",
       " None,\n",
       " 'https://www.youtube.com/watch?v=1izKrQHyx9M',\n",
       " 'https://www.youtube.com/watch?v=jXAb1evxaJc',\n",
       " 'https://www.youtube.com/watch?v=jXAb1evxaJc',\n",
       " None,\n",
       " 'https://www.youtube.com/watch?v=jXAb1evxaJc',\n",
       " 'https://www.youtube.com/watch?v=2dn7XMxRtPE',\n",
       " 'https://www.youtube.com/watch?v=2dn7XMxRtPE',\n",
       " None,\n",
       " 'https://www.youtube.com/watch?v=2dn7XMxRtPE',\n",
       " 'https://www.youtube.com/watch?v=Fks4dVnTb5M',\n",
       " 'https://www.youtube.com/watch?v=Fks4dVnTb5M',\n",
       " None,\n",
       " 'https://www.youtube.com/watch?v=Fks4dVnTb5M',\n",
       " 'https://www.youtube.com/watch?v=nIuGXeISbSo',\n",
       " 'https://www.youtube.com/watch?v=nIuGXeISbSo',\n",
       " None,\n",
       " 'https://www.youtube.com/watch?v=nIuGXeISbSo',\n",
       " 'https://www.youtube.com/watch?v=p9pqo970kjw',\n",
       " 'https://www.youtube.com/watch?v=p9pqo970kjw',\n",
       " None,\n",
       " 'https://www.youtube.com/watch?v=p9pqo970kjw',\n",
       " 'https://www.youtube.com/watch?v=L5G-0FbyAsc',\n",
       " 'https://www.youtube.com/watch?v=L5G-0FbyAsc',\n",
       " None,\n",
       " 'https://www.youtube.com/watch?v=L5G-0FbyAsc',\n",
       " 'https://www.youtube.com/watch?v=uqDX6hcRf2I',\n",
       " 'https://www.youtube.com/watch?v=uqDX6hcRf2I',\n",
       " None,\n",
       " 'https://www.youtube.com/watch?v=uqDX6hcRf2I',\n",
       " 'https://www.youtube.com/watch?v=9ZVfDuqKIQM',\n",
       " 'https://www.youtube.com/watch?v=9ZVfDuqKIQM',\n",
       " None,\n",
       " 'https://www.youtube.com/watch?v=9ZVfDuqKIQM',\n",
       " 'https://www.youtube.com/watch?v=1wMGzlQTyeM',\n",
       " 'https://www.youtube.com/watch?v=1wMGzlQTyeM',\n",
       " None,\n",
       " 'https://www.youtube.com/watch?v=1wMGzlQTyeM',\n",
       " 'https://www.youtube.com/watch?v=ivS0xPAbVUs',\n",
       " 'https://www.youtube.com/watch?v=ivS0xPAbVUs',\n",
       " None,\n",
       " 'https://www.youtube.com/watch?v=ivS0xPAbVUs',\n",
       " 'https://www.youtube.com/watch?v=UJb799ZLCwQ',\n",
       " 'https://www.youtube.com/watch?v=UJb799ZLCwQ',\n",
       " None,\n",
       " 'https://www.youtube.com/watch?v=UJb799ZLCwQ',\n",
       " 'https://www.youtube.com/watch?v=RPCHRtdO9hg',\n",
       " 'https://www.youtube.com/watch?v=RPCHRtdO9hg',\n",
       " None,\n",
       " 'https://www.youtube.com/watch?v=RPCHRtdO9hg',\n",
       " 'https://www.youtube.com/watch?v=iN2UWJW3lzo',\n",
       " 'https://www.youtube.com/watch?v=iN2UWJW3lzo',\n",
       " None,\n",
       " 'https://www.youtube.com/watch?v=iN2UWJW3lzo',\n",
       " 'https://www.youtube.com/watch?v=lRle7Jzciq8',\n",
       " 'https://www.youtube.com/watch?v=lRle7Jzciq8',\n",
       " None,\n",
       " 'https://www.youtube.com/watch?v=lRle7Jzciq8',\n",
       " 'https://www.youtube.com/watch?v=CPmcBN2xoxI',\n",
       " 'https://www.youtube.com/watch?v=CPmcBN2xoxI',\n",
       " None,\n",
       " 'https://www.youtube.com/watch?v=CPmcBN2xoxI',\n",
       " 'https://www.youtube.com/watch?v=mdZ4g2o7v9g',\n",
       " 'https://www.youtube.com/watch?v=mdZ4g2o7v9g',\n",
       " None,\n",
       " 'https://www.youtube.com/watch?v=mdZ4g2o7v9g',\n",
       " 'https://www.youtube.com/watch?v=z3ko4cUOYO0',\n",
       " 'https://www.youtube.com/watch?v=z3ko4cUOYO0',\n",
       " None,\n",
       " 'https://www.youtube.com/watch?v=z3ko4cUOYO0',\n",
       " 'https://www.youtube.com/watch?v=ZLgLCNKQwFw',\n",
       " 'https://www.youtube.com/watch?v=ZLgLCNKQwFw',\n",
       " None,\n",
       " 'https://www.youtube.com/watch?v=ZLgLCNKQwFw',\n",
       " 'https://www.youtube.com/watch?v=J7hFajBOmBo',\n",
       " 'https://www.youtube.com/watch?v=J7hFajBOmBo',\n",
       " None,\n",
       " 'https://www.youtube.com/watch?v=J7hFajBOmBo',\n",
       " 'https://www.youtube.com/watch?v=PXb-jcA2TGA',\n",
       " 'https://www.youtube.com/watch?v=PXb-jcA2TGA',\n",
       " None,\n",
       " 'https://www.youtube.com/watch?v=PXb-jcA2TGA',\n",
       " 'https://www.youtube.com/watch?v=LxHAzwur8cI',\n",
       " 'https://www.youtube.com/watch?v=LxHAzwur8cI',\n",
       " None,\n",
       " 'https://www.youtube.com/watch?v=LxHAzwur8cI',\n",
       " 'https://www.youtube.com/watch?v=sBXHecS1S1w',\n",
       " 'https://www.youtube.com/watch?v=sBXHecS1S1w',\n",
       " None,\n",
       " 'https://www.youtube.com/watch?v=sBXHecS1S1w',\n",
       " 'https://www.youtube.com/watch?v=l6ZY90YnMy0',\n",
       " 'https://www.youtube.com/watch?v=l6ZY90YnMy0',\n",
       " None,\n",
       " 'https://www.youtube.com/watch?v=l6ZY90YnMy0',\n",
       " 'https://www.youtube.com/watch?v=33onjejJLDs',\n",
       " 'https://www.youtube.com/watch?v=33onjejJLDs',\n",
       " None,\n",
       " 'https://www.youtube.com/watch?v=33onjejJLDs',\n",
       " 'https://www.youtube.com/watch?v=o3eOj-jhhfI',\n",
       " 'https://www.youtube.com/watch?v=o3eOj-jhhfI',\n",
       " None,\n",
       " 'https://www.youtube.com/watch?v=o3eOj-jhhfI',\n",
       " 'https://www.youtube.com/watch?v=ecGcmstmnGA',\n",
       " 'https://www.youtube.com/watch?v=ecGcmstmnGA',\n",
       " None,\n",
       " 'https://www.youtube.com/watch?v=ecGcmstmnGA',\n",
       " 'https://www.youtube.com/watch?v=08WWij66k8A',\n",
       " 'https://www.youtube.com/watch?v=08WWij66k8A',\n",
       " None,\n",
       " 'https://www.youtube.com/watch?v=08WWij66k8A',\n",
       " 'https://www.youtube.com/watch?v=bXpeyKIVioA',\n",
       " 'https://www.youtube.com/watch?v=bXpeyKIVioA',\n",
       " None,\n",
       " 'https://www.youtube.com/watch?v=bXpeyKIVioA',\n",
       " 'https://www.youtube.com/watch?v=YwxDKs7jNXs',\n",
       " 'https://www.youtube.com/watch?v=YwxDKs7jNXs',\n",
       " None,\n",
       " 'https://www.youtube.com/watch?v=YwxDKs7jNXs',\n",
       " 'https://www.youtube.com/watch?v=dVq8dLd5zK4',\n",
       " 'https://www.youtube.com/watch?v=dVq8dLd5zK4',\n",
       " None,\n",
       " 'https://www.youtube.com/watch?v=dVq8dLd5zK4',\n",
       " 'https://www.youtube.com/watch?v=9y6ruBLE7z0',\n",
       " 'https://www.youtube.com/watch?v=9y6ruBLE7z0',\n",
       " None,\n",
       " 'https://www.youtube.com/watch?v=9y6ruBLE7z0',\n",
       " 'https://www.youtube.com/watch?v=yv4Gi792S8o',\n",
       " 'https://www.youtube.com/watch?v=yv4Gi792S8o',\n",
       " None,\n",
       " 'https://www.youtube.com/watch?v=yv4Gi792S8o',\n",
       " 'https://www.youtube.com/watch?v=aPrSAvwuhTk',\n",
       " 'https://www.youtube.com/watch?v=aPrSAvwuhTk',\n",
       " None,\n",
       " 'https://www.youtube.com/watch?v=aPrSAvwuhTk',\n",
       " 'https://www.youtube.com/watch?v=tigMKfSBJ9E',\n",
       " 'https://www.youtube.com/watch?v=tigMKfSBJ9E',\n",
       " None,\n",
       " 'https://www.youtube.com/watch?v=tigMKfSBJ9E',\n",
       " 'https://www.youtube.com/watch?v=2OrYDCb737E',\n",
       " 'https://www.youtube.com/watch?v=2OrYDCb737E',\n",
       " None,\n",
       " 'https://www.youtube.com/watch?v=2OrYDCb737E',\n",
       " 'https://www.youtube.com/watch?v=U1FxvG4GNAY',\n",
       " 'https://www.youtube.com/watch?v=U1FxvG4GNAY',\n",
       " None,\n",
       " 'https://www.youtube.com/watch?v=U1FxvG4GNAY',\n",
       " 'https://www.youtube.com/watch?v=t961YvjKH20',\n",
       " 'https://www.youtube.com/watch?v=t961YvjKH20',\n",
       " None,\n",
       " 'https://www.youtube.com/watch?v=t961YvjKH20',\n",
       " 'https://www.youtube.com/watch?v=XA03UtMWbIA',\n",
       " 'https://www.youtube.com/watch?v=XA03UtMWbIA',\n",
       " None,\n",
       " 'https://www.youtube.com/watch?v=XA03UtMWbIA',\n",
       " 'https://www.youtube.com/watch?v=9jfTn4lcLu4',\n",
       " 'https://www.youtube.com/watch?v=9jfTn4lcLu4',\n",
       " None,\n",
       " 'https://www.youtube.com/watch?v=9jfTn4lcLu4',\n",
       " 'https://www.youtube.com/watch?v=c_pKfD4UgFg',\n",
       " 'https://www.youtube.com/watch?v=c_pKfD4UgFg',\n",
       " None,\n",
       " 'https://www.youtube.com/watch?v=c_pKfD4UgFg',\n",
       " 'https://www.youtube.com/watch?v=RWcwMNVdp9c',\n",
       " 'https://www.youtube.com/watch?v=RWcwMNVdp9c',\n",
       " None,\n",
       " 'https://www.youtube.com/watch?v=RWcwMNVdp9c',\n",
       " 'https://www.youtube.com/watch?v=jzclZf2NaFM',\n",
       " 'https://www.youtube.com/watch?v=jzclZf2NaFM',\n",
       " None,\n",
       " 'https://www.youtube.com/watch?v=jzclZf2NaFM',\n",
       " 'https://www.youtube.com/watch?v=hzwEXoQDNCs',\n",
       " 'https://www.youtube.com/watch?v=hzwEXoQDNCs',\n",
       " None,\n",
       " 'https://www.youtube.com/watch?v=hzwEXoQDNCs',\n",
       " 'https://www.youtube.com/watch?v=0s6hAsFGxYE',\n",
       " 'https://www.youtube.com/watch?v=0s6hAsFGxYE',\n",
       " None,\n",
       " 'https://www.youtube.com/watch?v=0s6hAsFGxYE',\n",
       " 'https://www.youtube.com/watch?v=YXRyMc_noiE',\n",
       " 'https://www.youtube.com/watch?v=YXRyMc_noiE',\n",
       " None,\n",
       " 'https://www.youtube.com/watch?v=YXRyMc_noiE',\n",
       " 'https://www.youtube.com/watch?v=PI1obes98Zc',\n",
       " 'https://www.youtube.com/watch?v=PI1obes98Zc',\n",
       " None,\n",
       " 'https://www.youtube.com/watch?v=PI1obes98Zc',\n",
       " 'https://www.youtube.com/watch?v=16fUsD0M1-I',\n",
       " 'https://www.youtube.com/watch?v=16fUsD0M1-I',\n",
       " None,\n",
       " 'https://www.youtube.com/watch?v=16fUsD0M1-I',\n",
       " 'https://www.youtube.com/watch?v=S0RySN5arvk',\n",
       " 'https://www.youtube.com/watch?v=S0RySN5arvk',\n",
       " None,\n",
       " 'https://www.youtube.com/watch?v=S0RySN5arvk',\n",
       " 'https://www.youtube.com/watch?v=HzBhwxMrt8A',\n",
       " 'https://www.youtube.com/watch?v=HzBhwxMrt8A',\n",
       " None,\n",
       " 'https://www.youtube.com/watch?v=HzBhwxMrt8A',\n",
       " 'https://www.youtube.com/watch?v=60_B3haKADw',\n",
       " 'https://www.youtube.com/watch?v=60_B3haKADw',\n",
       " None,\n",
       " 'https://www.youtube.com/watch?v=60_B3haKADw',\n",
       " 'https://www.youtube.com/watch?v=46CNHP9wBAs',\n",
       " 'https://www.youtube.com/watch?v=46CNHP9wBAs',\n",
       " None,\n",
       " 'https://www.youtube.com/watch?v=46CNHP9wBAs',\n",
       " 'https://www.youtube.com/watch?v=1Wk5gJtZ2sQ',\n",
       " 'https://www.youtube.com/watch?v=1Wk5gJtZ2sQ',\n",
       " None,\n",
       " 'https://www.youtube.com/watch?v=1Wk5gJtZ2sQ',\n",
       " 'https://www.youtube.com/watch?v=iM_hVnElC-Q',\n",
       " 'https://www.youtube.com/watch?v=iM_hVnElC-Q',\n",
       " None,\n",
       " 'https://www.youtube.com/watch?v=iM_hVnElC-Q',\n",
       " 'https://www.youtube.com/watch?v=Prly9d7LoAQ',\n",
       " 'https://www.youtube.com/watch?v=Prly9d7LoAQ',\n",
       " None,\n",
       " 'https://www.youtube.com/watch?v=Prly9d7LoAQ',\n",
       " 'https://www.youtube.com/watch?v=AvwBDiCWSEM',\n",
       " 'https://www.youtube.com/watch?v=AvwBDiCWSEM',\n",
       " None,\n",
       " 'https://www.youtube.com/watch?v=AvwBDiCWSEM',\n",
       " 'https://www.youtube.com/watch?v=jQzKkMEaWFA',\n",
       " 'https://www.youtube.com/watch?v=jQzKkMEaWFA',\n",
       " None,\n",
       " 'https://www.youtube.com/watch?v=jQzKkMEaWFA',\n",
       " 'https://www.youtube.com/watch?v=6weIshsiLlM',\n",
       " 'https://www.youtube.com/watch?v=6weIshsiLlM',\n",
       " None,\n",
       " 'https://www.youtube.com/watch?v=6weIshsiLlM',\n",
       " 'https://www.youtube.com/watch?v=-osuIPJkPWg',\n",
       " 'https://www.youtube.com/watch?v=-osuIPJkPWg',\n",
       " None,\n",
       " 'https://www.youtube.com/watch?v=-osuIPJkPWg',\n",
       " 'https://www.youtube.com/watch?v=VsKb_U2-Cx0',\n",
       " 'https://www.youtube.com/watch?v=VsKb_U2-Cx0',\n",
       " None,\n",
       " 'https://www.youtube.com/watch?v=VsKb_U2-Cx0',\n",
       " None,\n",
       " None,\n",
       " None,\n",
       " '',\n",
       " None,\n",
       " None,\n",
       " None,\n",
       " None,\n",
       " None,\n",
       " None,\n",
       " None,\n",
       " None,\n",
       " None,\n",
       " None]"
      ]
     },
     "execution_count": 21,
     "metadata": {},
     "output_type": "execute_result"
    }
   ],
   "source": [
    "videolinks"
   ]
  },
  {
   "cell_type": "code",
   "execution_count": 9,
   "id": "38647c96",
   "metadata": {},
   "outputs": [],
   "source": [
    "del videolinks[0:18]"
   ]
  },
  {
   "cell_type": "code",
   "execution_count": 39,
   "id": "a6e5a5b3",
   "metadata": {
    "scrolled": true
   },
   "outputs": [],
   "source": [
    "url_list =[]\n",
    "\n",
    "for i in videolinks:\n",
    "    if i == None:\n",
    "        continue\n",
    "    elif i not in url_list :\n",
    "        url_list.append(i)"
   ]
  },
  {
   "cell_type": "markdown",
   "id": "8ecf3e50",
   "metadata": {},
   "source": [
    "# Q1. Write a python program to extract the video URL of the first five videos."
   ]
  },
  {
   "cell_type": "code",
   "execution_count": 40,
   "id": "6c34dd6d",
   "metadata": {},
   "outputs": [
    {
     "name": "stdout",
     "output_type": "stream",
     "text": [
      "first five video link :\n",
      "['https://www.youtube.com/watch?v=1izKrQHyx9M', 'https://www.youtube.com/watch?v=jXAb1evxaJc', 'https://www.youtube.com/watch?v=2dn7XMxRtPE', 'https://www.youtube.com/watch?v=Fks4dVnTb5M', 'https://www.youtube.com/watch?v=nIuGXeISbSo']\n"
     ]
    }
   ],
   "source": [
    "print(\"first five video link :\")\n",
    "print(url_list[0:5])"
   ]
  },
  {
   "cell_type": "code",
   "execution_count": null,
   "id": "d2d05a22",
   "metadata": {},
   "outputs": [],
   "source": []
  },
  {
   "cell_type": "markdown",
   "id": "9d6ccb49",
   "metadata": {},
   "source": [
    "# Q2. Write a python program to extract the URL of the video thumbnails of the first five videos.\n",
    "\n",
    "# Q3. Write a python program to extract the title of the first five videos.\n",
    "\n",
    "# Q4. Write a python program to extract the number of views of the first five videos.\n",
    "\n",
    "# Q5. Write a python program to extract the time of posting of video for the first five videos"
   ]
  },
  {
   "cell_type": "code",
   "execution_count": 11,
   "id": "e2d9c8e5",
   "metadata": {
    "scrolled": true
   },
   "outputs": [],
   "source": [
    "TI = driver.find_elements(By.CLASS_NAME,\"style-scope ytd-rich-grid-media\")"
   ]
  },
  {
   "cell_type": "code",
   "execution_count": 12,
   "id": "d1569906",
   "metadata": {
    "scrolled": false
   },
   "outputs": [],
   "source": [
    "title =[]\n",
    "view = []\n",
    "time = []\n",
    "mix_data =[]\n",
    "for i in TI :\n",
    "    mix_data.append(i.text)"
   ]
  },
  {
   "cell_type": "code",
   "execution_count": 13,
   "id": "34f59905",
   "metadata": {},
   "outputs": [
    {
     "data": {
      "text/plain": [
       "['22:54\\n⚡Unleashing the Power of PW Internationally⚡| Launching Physics Wallah Gulf\\n48K views\\n4d ago',\n",
       " '1:26\\nBig Announcement for Gulf Region Aspirants 🔥| Physics Wallah Gulf Channel Trailer🚀\\n63K views\\n12d ago',\n",
       " '30:58\\nArjuna JEE v/s Arjuna NEET 🏏- Class 11th Faculties ka Cricket Match 🔥\\n295K views\\n2w ago',\n",
       " '37:25\\nHow to Study Zoology in Class 11th? Ab Saare Doubts Solve Honge !! 🔥\\n9.7K views\\n3w ago',\n",
       " '1:03\\nBIGGEST OFFER For Class - 8th ,9th & 10th Students 🤩 || Grab This Opportunity Now 🔥\\n37K views\\n3w ago',\n",
       " '1:27\\nLaunching PW प्रयोगशाला 2.0 🔥 || The Unbeatable is Loading...\\n31K views\\n3w ago',\n",
       " '0:13\\nUDAAN Hindi Batch 🔥| Class 10th वालों के बच्चें के लिए Surprises 🎉🎉 #3SaalLajawaab\\n15K views\\n3w ago',\n",
       " '0:17\\nNEEV 2.0 Batch 🔥 | Class 9th वालों के बच्चें के लिए Surprises 🎉🎉 #3SaalLajawaab\\n25K views\\n3w ago',\n",
       " '37:46\\nHow to Study Botany in Class 11th? Ab Saare Doubts Solve Honge !! 🔥\\n14K views\\n4w ago',\n",
       " 'How To Prepare For National Science Olympiad? 🔥 || A Complete Guide For Class 9th & 10th Students\\n49K views\\n4w ago',\n",
       " 'How to Study Physics in Class 11th? Ab Saare Numericals Solve Honge !! 🔥\\n21K views\\n1mo ago',\n",
       " 'Why Maximum Students WASTED their Class 11th? The HARSH TRUTH !!\\n40K views\\n1mo ago',\n",
       " 'Meet Bhakti Agrawal : The Topper of Our CBSE Board Class - 10th 2023 🔥\\n19K views\\n1mo ago',\n",
       " 'How To Plan Maths Strategy For Class -10th To Score 95%+ Marks || CBSE Boards 🔥\\n233K views\\n1mo ago',\n",
       " 'Meet Dilisha Rajput : The Topper of Our CBSE Board Class - 10th 2023 🔥\\n15K views\\n1mo ago',\n",
       " 'Olympiad Challengers Batch For Our Udaan & Victory Students || Class-10th🔥\\n49K views\\n1mo ago',\n",
       " 'How to Join Indian Army After 10th ?? | Detailed Explanation 🔥🔥\\n15K views\\n1mo ago',\n",
       " 'PW की कहानी, TOPPERS की जुबानी || Celebrating the Success of Our Class-10th Toppers⚡🤩\\n52K views\\n1mo ago',\n",
       " 'Big Announcement For Class 10th HINDI MEDIUM Students 🔥 #Trailer💥\\n14K views\\n1mo ago',\n",
       " \"India's Biggest Scholarship Test For All Students 🔥 || Watch This Video Now💯\\n28K views\\n1mo ago\",\n",
       " 'How To Start Class-10th History & Civics || ICSE Board || Follow This Strategy Plan 🔥\\n13K views\\n1mo ago',\n",
       " 'How To Start Class-10th Geography || ICSE Board || Complete Roadmap For All Students🔥\\n14K views\\n1mo ago',\n",
       " 'How To Start Class -10th Chemistry || ICSE Board || Complete Plan To Score 95%+ Marks\\n17K views\\n1mo ago',\n",
       " 'Complete Plan to Start Class-9th Science || Follow This Master Strategy to score more than 95% ⚡⚡\\n66K views\\n1mo ago',\n",
       " 'Best Way To Start Class -9th English 💥 || Master Strategy Plan || Follow this ⚡⚡\\n17K views\\n1mo ago',\n",
       " \"PWSAT Is Back Again!! 🔥 || India's Biggest Scholarship Test || Watch This ⚡⚡\\n31K views\\n1mo ago\",\n",
       " 'Finally The Wait is Over 🔥 || Icse Batch Coming Soon || Must Watch 🔥🔥\\n25K views\\n2mo ago',\n",
       " \"Best Strategy To Start Class-9th SST || Don't Miss This Video🛑 || Complete Roadmap\\n29K views\\n2mo ago\",\n",
       " 'Finally The Wait is Over🔥 || Launching Foundation Channels in 5 Different Languages 🤩\\n31K views\\n2mo ago',\n",
       " 'How To Plan For Class-11th || Perfect Strategy 💯 || A Complete Roadmap!!\\n100K views\\n2mo ago']"
      ]
     },
     "execution_count": 13,
     "metadata": {},
     "output_type": "execute_result"
    }
   ],
   "source": [
    "mix_data"
   ]
  },
  {
   "cell_type": "code",
   "execution_count": 49,
   "id": "ccbd293c",
   "metadata": {},
   "outputs": [
    {
     "data": {
      "text/plain": [
       "['22:54',\n",
       " '⚡Unleashing the Power of PW Internationally⚡| Launching Physics Wallah Gulf',\n",
       " '46K views',\n",
       " '4 days ago']"
      ]
     },
     "execution_count": 49,
     "metadata": {},
     "output_type": "execute_result"
    }
   ],
   "source": [
    "mix_data[0].split(\"\\n\")"
   ]
  },
  {
   "cell_type": "code",
   "execution_count": 14,
   "id": "657f0f10",
   "metadata": {},
   "outputs": [],
   "source": [
    "for i in mix_data[0:6]:\n",
    "    sp = i.split(\"\\n\")\n",
    "    title.append(sp[1])\n",
    "    view.append(sp[2])\n",
    "    time.append(sp[3])"
   ]
  },
  {
   "cell_type": "code",
   "execution_count": 15,
   "id": "3dcc3523",
   "metadata": {
    "scrolled": true
   },
   "outputs": [
    {
     "data": {
      "text/plain": [
       "['⚡Unleashing the Power of PW Internationally⚡| Launching Physics Wallah Gulf',\n",
       " 'Big Announcement for Gulf Region Aspirants 🔥| Physics Wallah Gulf Channel Trailer🚀',\n",
       " 'Arjuna JEE v/s Arjuna NEET 🏏- Class 11th Faculties ka Cricket Match 🔥',\n",
       " 'How to Study Zoology in Class 11th? Ab Saare Doubts Solve Honge !! 🔥',\n",
       " 'BIGGEST OFFER For Class - 8th ,9th & 10th Students 🤩 || Grab This Opportunity Now 🔥']"
      ]
     },
     "execution_count": 15,
     "metadata": {},
     "output_type": "execute_result"
    }
   ],
   "source": [
    "title[0:5]"
   ]
  },
  {
   "cell_type": "code",
   "execution_count": 16,
   "id": "4eee477d",
   "metadata": {},
   "outputs": [
    {
     "data": {
      "text/plain": [
       "['4d ago', '12d ago', '2w ago', '3w ago', '3w ago']"
      ]
     },
     "execution_count": 16,
     "metadata": {},
     "output_type": "execute_result"
    }
   ],
   "source": [
    "time[0:5]"
   ]
  },
  {
   "cell_type": "code",
   "execution_count": 17,
   "id": "50629652",
   "metadata": {},
   "outputs": [
    {
     "data": {
      "text/plain": [
       "['48K views', '63K views', '295K views', '9.7K views', '37K views']"
      ]
     },
     "execution_count": 17,
     "metadata": {},
     "output_type": "execute_result"
    }
   ],
   "source": [
    "view[0:5]"
   ]
  },
  {
   "cell_type": "code",
   "execution_count": null,
   "id": "36654f81",
   "metadata": {},
   "outputs": [],
   "source": []
  },
  {
   "cell_type": "code",
   "execution_count": 18,
   "id": "bf06fd88",
   "metadata": {},
   "outputs": [],
   "source": [
    "thumb = driver.find_elements(By.TAG_NAME,\"img\")"
   ]
  },
  {
   "cell_type": "code",
   "execution_count": 22,
   "id": "83e96fa2",
   "metadata": {},
   "outputs": [],
   "source": [
    "thumb_img = []\n",
    "for i in thumb:\n",
    "    thumb_img.append(i.get_attribute(\"src\"))"
   ]
  },
  {
   "cell_type": "code",
   "execution_count": 25,
   "id": "f515c9c3",
   "metadata": {},
   "outputs": [],
   "source": [
    "del thumb_img[0:8]"
   ]
  },
  {
   "cell_type": "code",
   "execution_count": 26,
   "id": "8795be10",
   "metadata": {},
   "outputs": [
    {
     "data": {
      "text/plain": [
       "['https://i.ytimg.com/vi/1izKrQHyx9M/hqdefault.jpg?sqp=-oaymwEcCNACELwBSFXyq4qpAw4IARUAAIhCGAFwAcABBg==&rs=AOn4CLCvjSUCwD4j5ZVE_nUMLg6QNCpkfg',\n",
       " None,\n",
       " 'https://i.ytimg.com/vi/jXAb1evxaJc/hqdefault.jpg?sqp=-oaymwEcCNACELwBSFXyq4qpAw4IARUAAIhCGAFwAcABBg==&rs=AOn4CLBs0CPJgSnMgMMu57VSlYuPtsxS5w',\n",
       " None,\n",
       " 'https://i.ytimg.com/vi/2dn7XMxRtPE/hqdefault.jpg?sqp=-oaymwEcCNACELwBSFXyq4qpAw4IARUAAIhCGAFwAcABBg==&rs=AOn4CLB3MjWwoAHyIqxPMuRq73dnbPfgUA',\n",
       " None,\n",
       " 'https://i.ytimg.com/vi/Fks4dVnTb5M/hqdefault.jpg?sqp=-oaymwEcCNACELwBSFXyq4qpAw4IARUAAIhCGAFwAcABBg==&rs=AOn4CLCpN6SRs504BkLaWh3ANqNHoN6mxw',\n",
       " None,\n",
       " 'https://i.ytimg.com/vi/nIuGXeISbSo/hqdefault.jpg?sqp=-oaymwEcCNACELwBSFXyq4qpAw4IARUAAIhCGAFwAcABBg==&rs=AOn4CLCghcINT4Se0KVLv5hCY4FEXfcprw',\n",
       " None,\n",
       " 'https://i.ytimg.com/vi/p9pqo970kjw/hqdefault.jpg?sqp=-oaymwEcCNACELwBSFXyq4qpAw4IARUAAIhCGAFwAcABBg==&rs=AOn4CLDlVV4CbDnqGHS2UuXZ6hPJWtSQkA',\n",
       " None,\n",
       " 'https://i.ytimg.com/vi/L5G-0FbyAsc/hqdefault.jpg?sqp=-oaymwEcCNACELwBSFXyq4qpAw4IARUAAIhCGAFwAcABBg==&rs=AOn4CLAjVBrA1MNNj50R5x6OMa8nbS0_lQ',\n",
       " None,\n",
       " 'https://i.ytimg.com/vi/uqDX6hcRf2I/hqdefault.jpg?sqp=-oaymwEcCNACELwBSFXyq4qpAw4IARUAAIhCGAFwAcABBg==&rs=AOn4CLAirHTP5SepFLSPeuJLFl1cSkPfmg',\n",
       " None,\n",
       " 'https://i.ytimg.com/vi/9ZVfDuqKIQM/hqdefault.jpg?sqp=-oaymwEcCNACELwBSFXyq4qpAw4IARUAAIhCGAFwAcABBg==&rs=AOn4CLCflFrJkyPig_Yj4ry6NOAVbQUd7w',\n",
       " None,\n",
       " None,\n",
       " None,\n",
       " None,\n",
       " None,\n",
       " None,\n",
       " None,\n",
       " None,\n",
       " None,\n",
       " None,\n",
       " None,\n",
       " None,\n",
       " None,\n",
       " None,\n",
       " None,\n",
       " None,\n",
       " None,\n",
       " None,\n",
       " None,\n",
       " None,\n",
       " None,\n",
       " None,\n",
       " None,\n",
       " None,\n",
       " None,\n",
       " None,\n",
       " None,\n",
       " None,\n",
       " None,\n",
       " None,\n",
       " None,\n",
       " None,\n",
       " None,\n",
       " None,\n",
       " None,\n",
       " None,\n",
       " None,\n",
       " None,\n",
       " None,\n",
       " None,\n",
       " None,\n",
       " None,\n",
       " None,\n",
       " 'https://www.youtube.com/pagead/viewthroughconversion/962985656/?backend=innertube&cname=1&cver=2_20230620_01_00&data=backend%3Dinnertube%3Bcname%3D1%3Bcver%3D2_20230620_01_00%3Bptype%3Dcview%3Btype%3Dcview%3Butuid%3DphU2bAGmw304CFAzy0Enuw&foc_id=phU2bAGmw304CFAzy0Enuw&label=followon_cvisit&ptype=cview&utuid=phU2bAGmw304CFAzy0Enuw',\n",
       " None,\n",
       " None]"
      ]
     },
     "execution_count": 26,
     "metadata": {},
     "output_type": "execute_result"
    }
   ],
   "source": [
    "thumb_img"
   ]
  },
  {
   "cell_type": "code",
   "execution_count": 27,
   "id": "07267c66",
   "metadata": {},
   "outputs": [],
   "source": [
    "thumb_list = []\n",
    "for i in thumb_img:\n",
    "    if i == None:\n",
    "        continue\n",
    "    elif i not in thumb_list :\n",
    "        thumb_list.append(i)"
   ]
  },
  {
   "cell_type": "code",
   "execution_count": 28,
   "id": "5c5dd151",
   "metadata": {},
   "outputs": [
    {
     "data": {
      "text/plain": [
       "['https://i.ytimg.com/vi/1izKrQHyx9M/hqdefault.jpg?sqp=-oaymwEcCNACELwBSFXyq4qpAw4IARUAAIhCGAFwAcABBg==&rs=AOn4CLCvjSUCwD4j5ZVE_nUMLg6QNCpkfg',\n",
       " 'https://i.ytimg.com/vi/jXAb1evxaJc/hqdefault.jpg?sqp=-oaymwEcCNACELwBSFXyq4qpAw4IARUAAIhCGAFwAcABBg==&rs=AOn4CLBs0CPJgSnMgMMu57VSlYuPtsxS5w',\n",
       " 'https://i.ytimg.com/vi/2dn7XMxRtPE/hqdefault.jpg?sqp=-oaymwEcCNACELwBSFXyq4qpAw4IARUAAIhCGAFwAcABBg==&rs=AOn4CLB3MjWwoAHyIqxPMuRq73dnbPfgUA',\n",
       " 'https://i.ytimg.com/vi/Fks4dVnTb5M/hqdefault.jpg?sqp=-oaymwEcCNACELwBSFXyq4qpAw4IARUAAIhCGAFwAcABBg==&rs=AOn4CLCpN6SRs504BkLaWh3ANqNHoN6mxw',\n",
       " 'https://i.ytimg.com/vi/nIuGXeISbSo/hqdefault.jpg?sqp=-oaymwEcCNACELwBSFXyq4qpAw4IARUAAIhCGAFwAcABBg==&rs=AOn4CLCghcINT4Se0KVLv5hCY4FEXfcprw',\n",
       " 'https://i.ytimg.com/vi/p9pqo970kjw/hqdefault.jpg?sqp=-oaymwEcCNACELwBSFXyq4qpAw4IARUAAIhCGAFwAcABBg==&rs=AOn4CLDlVV4CbDnqGHS2UuXZ6hPJWtSQkA',\n",
       " 'https://i.ytimg.com/vi/L5G-0FbyAsc/hqdefault.jpg?sqp=-oaymwEcCNACELwBSFXyq4qpAw4IARUAAIhCGAFwAcABBg==&rs=AOn4CLAjVBrA1MNNj50R5x6OMa8nbS0_lQ',\n",
       " 'https://i.ytimg.com/vi/uqDX6hcRf2I/hqdefault.jpg?sqp=-oaymwEcCNACELwBSFXyq4qpAw4IARUAAIhCGAFwAcABBg==&rs=AOn4CLAirHTP5SepFLSPeuJLFl1cSkPfmg',\n",
       " 'https://i.ytimg.com/vi/9ZVfDuqKIQM/hqdefault.jpg?sqp=-oaymwEcCNACELwBSFXyq4qpAw4IARUAAIhCGAFwAcABBg==&rs=AOn4CLCflFrJkyPig_Yj4ry6NOAVbQUd7w',\n",
       " 'https://www.youtube.com/pagead/viewthroughconversion/962985656/?backend=innertube&cname=1&cver=2_20230620_01_00&data=backend%3Dinnertube%3Bcname%3D1%3Bcver%3D2_20230620_01_00%3Bptype%3Dcview%3Btype%3Dcview%3Butuid%3DphU2bAGmw304CFAzy0Enuw&foc_id=phU2bAGmw304CFAzy0Enuw&label=followon_cvisit&ptype=cview&utuid=phU2bAGmw304CFAzy0Enuw']"
      ]
     },
     "execution_count": 28,
     "metadata": {},
     "output_type": "execute_result"
    }
   ],
   "source": [
    "thumb_list"
   ]
  },
  {
   "cell_type": "code",
   "execution_count": 31,
   "id": "ff79c38b",
   "metadata": {},
   "outputs": [],
   "source": [
    "logging.basicConfig(filename= \"logging_scpper.log\" , level=logging.DEBUG , format=\"%(asctime)s %(name) %(levelname) %(message)\" )"
   ]
  },
  {
   "cell_type": "code",
   "execution_count": 29,
   "id": "f7eee7a2",
   "metadata": {},
   "outputs": [],
   "source": [
    "import logging"
   ]
  },
  {
   "cell_type": "code",
   "execution_count": 32,
   "id": "2380b094",
   "metadata": {},
   "outputs": [],
   "source": [
    "logging.error(thumb_list)"
   ]
  },
  {
   "cell_type": "code",
   "execution_count": 33,
   "id": "ed74ebbf",
   "metadata": {},
   "outputs": [],
   "source": [
    "my_data = {}"
   ]
  },
  {
   "cell_type": "code",
   "execution_count": 34,
   "id": "941c7188",
   "metadata": {},
   "outputs": [
    {
     "data": {
      "text/plain": [
       "['https://i.ytimg.com/vi/1izKrQHyx9M/hqdefault.jpg?sqp=-oaymwEcCNACELwBSFXyq4qpAw4IARUAAIhCGAFwAcABBg==&rs=AOn4CLCvjSUCwD4j5ZVE_nUMLg6QNCpkfg',\n",
       " 'https://i.ytimg.com/vi/jXAb1evxaJc/hqdefault.jpg?sqp=-oaymwEcCNACELwBSFXyq4qpAw4IARUAAIhCGAFwAcABBg==&rs=AOn4CLBs0CPJgSnMgMMu57VSlYuPtsxS5w',\n",
       " 'https://i.ytimg.com/vi/2dn7XMxRtPE/hqdefault.jpg?sqp=-oaymwEcCNACELwBSFXyq4qpAw4IARUAAIhCGAFwAcABBg==&rs=AOn4CLB3MjWwoAHyIqxPMuRq73dnbPfgUA',\n",
       " 'https://i.ytimg.com/vi/Fks4dVnTb5M/hqdefault.jpg?sqp=-oaymwEcCNACELwBSFXyq4qpAw4IARUAAIhCGAFwAcABBg==&rs=AOn4CLCpN6SRs504BkLaWh3ANqNHoN6mxw',\n",
       " 'https://i.ytimg.com/vi/nIuGXeISbSo/hqdefault.jpg?sqp=-oaymwEcCNACELwBSFXyq4qpAw4IARUAAIhCGAFwAcABBg==&rs=AOn4CLCghcINT4Se0KVLv5hCY4FEXfcprw',\n",
       " 'https://i.ytimg.com/vi/p9pqo970kjw/hqdefault.jpg?sqp=-oaymwEcCNACELwBSFXyq4qpAw4IARUAAIhCGAFwAcABBg==&rs=AOn4CLDlVV4CbDnqGHS2UuXZ6hPJWtSQkA',\n",
       " 'https://i.ytimg.com/vi/L5G-0FbyAsc/hqdefault.jpg?sqp=-oaymwEcCNACELwBSFXyq4qpAw4IARUAAIhCGAFwAcABBg==&rs=AOn4CLAjVBrA1MNNj50R5x6OMa8nbS0_lQ',\n",
       " 'https://i.ytimg.com/vi/uqDX6hcRf2I/hqdefault.jpg?sqp=-oaymwEcCNACELwBSFXyq4qpAw4IARUAAIhCGAFwAcABBg==&rs=AOn4CLAirHTP5SepFLSPeuJLFl1cSkPfmg',\n",
       " 'https://i.ytimg.com/vi/9ZVfDuqKIQM/hqdefault.jpg?sqp=-oaymwEcCNACELwBSFXyq4qpAw4IARUAAIhCGAFwAcABBg==&rs=AOn4CLCflFrJkyPig_Yj4ry6NOAVbQUd7w',\n",
       " 'https://www.youtube.com/pagead/viewthroughconversion/962985656/?backend=innertube&cname=1&cver=2_20230620_01_00&data=backend%3Dinnertube%3Bcname%3D1%3Bcver%3D2_20230620_01_00%3Bptype%3Dcview%3Btype%3Dcview%3Butuid%3DphU2bAGmw304CFAzy0Enuw&foc_id=phU2bAGmw304CFAzy0Enuw&label=followon_cvisit&ptype=cview&utuid=phU2bAGmw304CFAzy0Enuw']"
      ]
     },
     "execution_count": 34,
     "metadata": {},
     "output_type": "execute_result"
    }
   ],
   "source": [
    "thumb_list"
   ]
  },
  {
   "cell_type": "code",
   "execution_count": 35,
   "id": "7a0351ea",
   "metadata": {},
   "outputs": [
    {
     "data": {
      "text/plain": [
       "['48K views',\n",
       " '63K views',\n",
       " '295K views',\n",
       " '9.7K views',\n",
       " '37K views',\n",
       " '31K views']"
      ]
     },
     "execution_count": 35,
     "metadata": {},
     "output_type": "execute_result"
    }
   ],
   "source": [
    "view \n"
   ]
  },
  {
   "cell_type": "code",
   "execution_count": 36,
   "id": "a9f8505b",
   "metadata": {},
   "outputs": [
    {
     "data": {
      "text/plain": [
       "['4d ago', '12d ago', '2w ago', '3w ago', '3w ago', '3w ago']"
      ]
     },
     "execution_count": 36,
     "metadata": {},
     "output_type": "execute_result"
    }
   ],
   "source": [
    "time"
   ]
  },
  {
   "cell_type": "code",
   "execution_count": 37,
   "id": "93c3c4c9",
   "metadata": {},
   "outputs": [
    {
     "data": {
      "text/plain": [
       "['⚡Unleashing the Power of PW Internationally⚡| Launching Physics Wallah Gulf',\n",
       " 'Big Announcement for Gulf Region Aspirants 🔥| Physics Wallah Gulf Channel Trailer🚀',\n",
       " 'Arjuna JEE v/s Arjuna NEET 🏏- Class 11th Faculties ka Cricket Match 🔥',\n",
       " 'How to Study Zoology in Class 11th? Ab Saare Doubts Solve Honge !! 🔥',\n",
       " 'BIGGEST OFFER For Class - 8th ,9th & 10th Students 🤩 || Grab This Opportunity Now 🔥',\n",
       " 'Launching PW प्रयोगशाला 2.0 🔥 || The Unbeatable is Loading...']"
      ]
     },
     "execution_count": 37,
     "metadata": {},
     "output_type": "execute_result"
    }
   ],
   "source": [
    "title"
   ]
  },
  {
   "cell_type": "code",
   "execution_count": 41,
   "id": "12d5561a",
   "metadata": {},
   "outputs": [
    {
     "data": {
      "text/plain": [
       "['https://www.youtube.com/watch?v=1izKrQHyx9M',\n",
       " 'https://www.youtube.com/watch?v=jXAb1evxaJc',\n",
       " 'https://www.youtube.com/watch?v=2dn7XMxRtPE',\n",
       " 'https://www.youtube.com/watch?v=Fks4dVnTb5M',\n",
       " 'https://www.youtube.com/watch?v=nIuGXeISbSo',\n",
       " 'https://www.youtube.com/watch?v=p9pqo970kjw',\n",
       " 'https://www.youtube.com/watch?v=L5G-0FbyAsc',\n",
       " 'https://www.youtube.com/watch?v=uqDX6hcRf2I',\n",
       " 'https://www.youtube.com/watch?v=9ZVfDuqKIQM',\n",
       " 'https://www.youtube.com/watch?v=1wMGzlQTyeM',\n",
       " 'https://www.youtube.com/watch?v=ivS0xPAbVUs',\n",
       " 'https://www.youtube.com/watch?v=UJb799ZLCwQ',\n",
       " 'https://www.youtube.com/watch?v=RPCHRtdO9hg',\n",
       " 'https://www.youtube.com/watch?v=iN2UWJW3lzo',\n",
       " 'https://www.youtube.com/watch?v=lRle7Jzciq8',\n",
       " 'https://www.youtube.com/watch?v=CPmcBN2xoxI',\n",
       " 'https://www.youtube.com/watch?v=mdZ4g2o7v9g',\n",
       " 'https://www.youtube.com/watch?v=z3ko4cUOYO0',\n",
       " 'https://www.youtube.com/watch?v=ZLgLCNKQwFw',\n",
       " 'https://www.youtube.com/watch?v=J7hFajBOmBo',\n",
       " 'https://www.youtube.com/watch?v=PXb-jcA2TGA',\n",
       " 'https://www.youtube.com/watch?v=LxHAzwur8cI',\n",
       " 'https://www.youtube.com/watch?v=sBXHecS1S1w',\n",
       " 'https://www.youtube.com/watch?v=l6ZY90YnMy0',\n",
       " 'https://www.youtube.com/watch?v=33onjejJLDs',\n",
       " 'https://www.youtube.com/watch?v=o3eOj-jhhfI',\n",
       " 'https://www.youtube.com/watch?v=ecGcmstmnGA',\n",
       " 'https://www.youtube.com/watch?v=08WWij66k8A',\n",
       " 'https://www.youtube.com/watch?v=bXpeyKIVioA',\n",
       " 'https://www.youtube.com/watch?v=YwxDKs7jNXs',\n",
       " '']"
      ]
     },
     "execution_count": 41,
     "metadata": {},
     "output_type": "execute_result"
    }
   ],
   "source": [
    "url_list"
   ]
  },
  {
   "cell_type": "code",
   "execution_count": 65,
   "id": "4eb9c252",
   "metadata": {},
   "outputs": [],
   "source": [
    "n = 0\n",
    "for_csv = []\n",
    "while n<5:\n",
    "    my_data[n] =[url_list[n],thumb_list[n],title[n],view[n],time[n]]\n",
    "    for_csv.append([url_list[n],thumb_list[n],title[n],view[n],time[n]])\n",
    "    n = n+1"
   ]
  },
  {
   "cell_type": "code",
   "execution_count": 66,
   "id": "bf50f20f",
   "metadata": {},
   "outputs": [
    {
     "data": {
      "text/plain": [
       "{0: ['https://www.youtube.com/watch?v=1izKrQHyx9M',\n",
       "  'https://i.ytimg.com/vi/1izKrQHyx9M/hqdefault.jpg?sqp=-oaymwEcCNACELwBSFXyq4qpAw4IARUAAIhCGAFwAcABBg==&rs=AOn4CLCvjSUCwD4j5ZVE_nUMLg6QNCpkfg',\n",
       "  '⚡Unleashing the Power of PW Internationally⚡| Launching Physics Wallah Gulf',\n",
       "  '48K views',\n",
       "  '4d ago'],\n",
       " 1: ['https://www.youtube.com/watch?v=jXAb1evxaJc',\n",
       "  'https://i.ytimg.com/vi/jXAb1evxaJc/hqdefault.jpg?sqp=-oaymwEcCNACELwBSFXyq4qpAw4IARUAAIhCGAFwAcABBg==&rs=AOn4CLBs0CPJgSnMgMMu57VSlYuPtsxS5w',\n",
       "  'Big Announcement for Gulf Region Aspirants 🔥| Physics Wallah Gulf Channel Trailer🚀',\n",
       "  '63K views',\n",
       "  '12d ago'],\n",
       " 2: ['https://www.youtube.com/watch?v=2dn7XMxRtPE',\n",
       "  'https://i.ytimg.com/vi/2dn7XMxRtPE/hqdefault.jpg?sqp=-oaymwEcCNACELwBSFXyq4qpAw4IARUAAIhCGAFwAcABBg==&rs=AOn4CLB3MjWwoAHyIqxPMuRq73dnbPfgUA',\n",
       "  'Arjuna JEE v/s Arjuna NEET 🏏- Class 11th Faculties ka Cricket Match 🔥',\n",
       "  '295K views',\n",
       "  '2w ago'],\n",
       " 3: ['https://www.youtube.com/watch?v=Fks4dVnTb5M',\n",
       "  'https://i.ytimg.com/vi/Fks4dVnTb5M/hqdefault.jpg?sqp=-oaymwEcCNACELwBSFXyq4qpAw4IARUAAIhCGAFwAcABBg==&rs=AOn4CLCpN6SRs504BkLaWh3ANqNHoN6mxw',\n",
       "  'How to Study Zoology in Class 11th? Ab Saare Doubts Solve Honge !! 🔥',\n",
       "  '9.7K views',\n",
       "  '3w ago'],\n",
       " 4: ['https://www.youtube.com/watch?v=nIuGXeISbSo',\n",
       "  'https://i.ytimg.com/vi/nIuGXeISbSo/hqdefault.jpg?sqp=-oaymwEcCNACELwBSFXyq4qpAw4IARUAAIhCGAFwAcABBg==&rs=AOn4CLCghcINT4Se0KVLv5hCY4FEXfcprw',\n",
       "  'BIGGEST OFFER For Class - 8th ,9th & 10th Students 🤩 || Grab This Opportunity Now 🔥',\n",
       "  '37K views',\n",
       "  '3w ago']}"
      ]
     },
     "execution_count": 66,
     "metadata": {},
     "output_type": "execute_result"
    }
   ],
   "source": [
    "my_data"
   ]
  },
  {
   "cell_type": "code",
   "execution_count": 71,
   "id": "9f718bb5",
   "metadata": {},
   "outputs": [],
   "source": [
    "import csv"
   ]
  },
  {
   "cell_type": "code",
   "execution_count": 67,
   "id": "75d80553",
   "metadata": {},
   "outputs": [
    {
     "data": {
      "text/plain": [
       "[['https://www.youtube.com/watch?v=1izKrQHyx9M',\n",
       "  'https://i.ytimg.com/vi/1izKrQHyx9M/hqdefault.jpg?sqp=-oaymwEcCNACELwBSFXyq4qpAw4IARUAAIhCGAFwAcABBg==&rs=AOn4CLCvjSUCwD4j5ZVE_nUMLg6QNCpkfg',\n",
       "  '⚡Unleashing the Power of PW Internationally⚡| Launching Physics Wallah Gulf',\n",
       "  '48K views',\n",
       "  '4d ago'],\n",
       " ['https://www.youtube.com/watch?v=jXAb1evxaJc',\n",
       "  'https://i.ytimg.com/vi/jXAb1evxaJc/hqdefault.jpg?sqp=-oaymwEcCNACELwBSFXyq4qpAw4IARUAAIhCGAFwAcABBg==&rs=AOn4CLBs0CPJgSnMgMMu57VSlYuPtsxS5w',\n",
       "  'Big Announcement for Gulf Region Aspirants 🔥| Physics Wallah Gulf Channel Trailer🚀',\n",
       "  '63K views',\n",
       "  '12d ago'],\n",
       " ['https://www.youtube.com/watch?v=2dn7XMxRtPE',\n",
       "  'https://i.ytimg.com/vi/2dn7XMxRtPE/hqdefault.jpg?sqp=-oaymwEcCNACELwBSFXyq4qpAw4IARUAAIhCGAFwAcABBg==&rs=AOn4CLB3MjWwoAHyIqxPMuRq73dnbPfgUA',\n",
       "  'Arjuna JEE v/s Arjuna NEET 🏏- Class 11th Faculties ka Cricket Match 🔥',\n",
       "  '295K views',\n",
       "  '2w ago'],\n",
       " ['https://www.youtube.com/watch?v=Fks4dVnTb5M',\n",
       "  'https://i.ytimg.com/vi/Fks4dVnTb5M/hqdefault.jpg?sqp=-oaymwEcCNACELwBSFXyq4qpAw4IARUAAIhCGAFwAcABBg==&rs=AOn4CLCpN6SRs504BkLaWh3ANqNHoN6mxw',\n",
       "  'How to Study Zoology in Class 11th? Ab Saare Doubts Solve Honge !! 🔥',\n",
       "  '9.7K views',\n",
       "  '3w ago'],\n",
       " ['https://www.youtube.com/watch?v=nIuGXeISbSo',\n",
       "  'https://i.ytimg.com/vi/nIuGXeISbSo/hqdefault.jpg?sqp=-oaymwEcCNACELwBSFXyq4qpAw4IARUAAIhCGAFwAcABBg==&rs=AOn4CLCghcINT4Se0KVLv5hCY4FEXfcprw',\n",
       "  'BIGGEST OFFER For Class - 8th ,9th & 10th Students 🤩 || Grab This Opportunity Now 🔥',\n",
       "  '37K views',\n",
       "  '3w ago']]"
      ]
     },
     "execution_count": 67,
     "metadata": {},
     "output_type": "execute_result"
    }
   ],
   "source": [
    "for_csv"
   ]
  },
  {
   "cell_type": "code",
   "execution_count": null,
   "id": "c8502521",
   "metadata": {},
   "outputs": [],
   "source": []
  },
  {
   "cell_type": "code",
   "execution_count": 74,
   "id": "034e29c0",
   "metadata": {},
   "outputs": [],
   "source": [
    "with  open(\"data.csv\" , \"w\",encoding=\"utf-8\") as f :\n",
    "    wr =csv.writer(f) \n",
    "    \n",
    "    for i in for_csv:\n",
    "        wr.writerow(i)"
   ]
  },
  {
   "cell_type": "code",
   "execution_count": null,
   "id": "4ab5592a",
   "metadata": {},
   "outputs": [],
   "source": []
  },
  {
   "cell_type": "code",
   "execution_count": null,
   "id": "a741884f",
   "metadata": {},
   "outputs": [],
   "source": []
  },
  {
   "cell_type": "code",
   "execution_count": 78,
   "id": "c0809e8d",
   "metadata": {},
   "outputs": [
    {
     "name": "stdout",
     "output_type": "stream",
     "text": [
      "0\n",
      "https://www.youtube.com/watch?v=1izKrQHyx9M\n",
      "https://i.ytimg.com/vi/1izKrQHyx9M/hqdefault.jpg?sqp=-oaymwEcCNACELwBSFXyq4qpAw4IARUAAIhCGAFwAcABBg==&rs=AOn4CLCvjSUCwD4j5ZVE_nUMLg6QNCpkfg\n",
      "⚡Unleashing the Power of PW Internationally⚡| Launching Physics Wallah Gulf\n",
      "48K views\n",
      "4d ago\n",
      "1\n",
      "https://www.youtube.com/watch?v=jXAb1evxaJc\n",
      "https://i.ytimg.com/vi/jXAb1evxaJc/hqdefault.jpg?sqp=-oaymwEcCNACELwBSFXyq4qpAw4IARUAAIhCGAFwAcABBg==&rs=AOn4CLBs0CPJgSnMgMMu57VSlYuPtsxS5w\n",
      "Big Announcement for Gulf Region Aspirants 🔥| Physics Wallah Gulf Channel Trailer🚀\n",
      "63K views\n",
      "12d ago\n",
      "2\n",
      "https://www.youtube.com/watch?v=2dn7XMxRtPE\n",
      "https://i.ytimg.com/vi/2dn7XMxRtPE/hqdefault.jpg?sqp=-oaymwEcCNACELwBSFXyq4qpAw4IARUAAIhCGAFwAcABBg==&rs=AOn4CLB3MjWwoAHyIqxPMuRq73dnbPfgUA\n",
      "Arjuna JEE v/s Arjuna NEET 🏏- Class 11th Faculties ka Cricket Match 🔥\n",
      "295K views\n",
      "2w ago\n",
      "3\n",
      "https://www.youtube.com/watch?v=Fks4dVnTb5M\n",
      "https://i.ytimg.com/vi/Fks4dVnTb5M/hqdefault.jpg?sqp=-oaymwEcCNACELwBSFXyq4qpAw4IARUAAIhCGAFwAcABBg==&rs=AOn4CLCpN6SRs504BkLaWh3ANqNHoN6mxw\n",
      "How to Study Zoology in Class 11th? Ab Saare Doubts Solve Honge !! 🔥\n",
      "9.7K views\n",
      "3w ago\n",
      "4\n",
      "https://www.youtube.com/watch?v=nIuGXeISbSo\n",
      "https://i.ytimg.com/vi/nIuGXeISbSo/hqdefault.jpg?sqp=-oaymwEcCNACELwBSFXyq4qpAw4IARUAAIhCGAFwAcABBg==&rs=AOn4CLCghcINT4Se0KVLv5hCY4FEXfcprw\n",
      "BIGGEST OFFER For Class - 8th ,9th & 10th Students 🤩 || Grab This Opportunity Now 🔥\n",
      "37K views\n",
      "3w ago\n"
     ]
    }
   ],
   "source": [
    "#  finaly print all the data one by one \n",
    "\n",
    "for i,j in my_data.items():\n",
    "    print(i)\n",
    "    for k in j :\n",
    "        print(k)"
   ]
  },
  {
   "cell_type": "code",
   "execution_count": null,
   "id": "0d475eb3",
   "metadata": {},
   "outputs": [],
   "source": []
  },
  {
   "cell_type": "code",
   "execution_count": null,
   "id": "f91090b0",
   "metadata": {},
   "outputs": [],
   "source": []
  }
 ],
 "metadata": {
  "kernelspec": {
   "display_name": "Python 3 (ipykernel)",
   "language": "python",
   "name": "python3"
  },
  "language_info": {
   "codemirror_mode": {
    "name": "ipython",
    "version": 3
   },
   "file_extension": ".py",
   "mimetype": "text/x-python",
   "name": "python",
   "nbconvert_exporter": "python",
   "pygments_lexer": "ipython3",
   "version": "3.9.7"
  }
 },
 "nbformat": 4,
 "nbformat_minor": 5
}
