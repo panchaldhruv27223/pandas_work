{
 "cells": [
  {
   "cell_type": "markdown",
   "id": "9d6f590b",
   "metadata": {},
   "source": [
    "1. Create a Pandas Series that contains the following data: 4, 8, 15, 16, 23, and 42. Then, print the series"
   ]
  },
  {
   "cell_type": "code",
   "execution_count": 1,
   "id": "e9f8fe6d",
   "metadata": {},
   "outputs": [],
   "source": [
    "import pandas as pd"
   ]
  },
  {
   "cell_type": "code",
   "execution_count": 3,
   "id": "6d4574f7",
   "metadata": {},
   "outputs": [
    {
     "name": "stdout",
     "output_type": "stream",
     "text": [
      "0     4\n",
      "1     8\n",
      "2    15\n",
      "3    16\n",
      "4    23\n",
      "5    42\n",
      "dtype: int64\n"
     ]
    }
   ],
   "source": [
    "l = [4,8,15,16,23,42]\n",
    "s1 = pd.Series(l)\n",
    "print(s1)"
   ]
  },
  {
   "cell_type": "markdown",
   "id": "302bb3a7",
   "metadata": {},
   "source": [
    "2. Create a variable of list type containing 10 elements in it, and apply pandas.Series function on the \n",
    "variable print it."
   ]
  },
  {
   "cell_type": "code",
   "execution_count": 5,
   "id": "769da9d3",
   "metadata": {},
   "outputs": [
    {
     "data": {
      "text/plain": [
       "0          1\n",
       "1          2\n",
       "2          3\n",
       "3          4\n",
       "4          5\n",
       "5          6\n",
       "6          7\n",
       "7          8\n",
       "8      dhruv\n",
       "9    panchal\n",
       "dtype: object"
      ]
     },
     "execution_count": 5,
     "metadata": {},
     "output_type": "execute_result"
    }
   ],
   "source": [
    "l = [1,2,3,4,5,6,7,8,\"dhruv\", \"panchal\"]\n",
    "s2 = pd.Series(l)\n",
    "print(s2)"
   ]
  },
  {
   "cell_type": "markdown",
   "id": "55c1221e",
   "metadata": {},
   "source": [
    "3. Create a Pandas DataFrame that contains the following data: Then, print the DataFrame."
   ]
  },
  {
   "cell_type": "code",
   "execution_count": null,
   "id": "29ecdcef",
   "metadata": {},
   "outputs": [],
   "source": [
    "name    age   gender\n",
    "alice   25    female\n",
    "bob     30    male\n",
    "claire  27    female"
   ]
  },
  {
   "cell_type": "code",
   "execution_count": 8,
   "id": "c79b185a",
   "metadata": {},
   "outputs": [],
   "source": [
    "l = [[\"alice\",25,\"female\"],\n",
    "[\"bob\",30,\"male\"],\n",
    "[\"claire\",27,\"female\"]]\n"
   ]
  },
  {
   "cell_type": "code",
   "execution_count": 10,
   "id": "05d1a7a0",
   "metadata": {},
   "outputs": [
    {
     "data": {
      "text/html": [
       "<div>\n",
       "<style scoped>\n",
       "    .dataframe tbody tr th:only-of-type {\n",
       "        vertical-align: middle;\n",
       "    }\n",
       "\n",
       "    .dataframe tbody tr th {\n",
       "        vertical-align: top;\n",
       "    }\n",
       "\n",
       "    .dataframe thead th {\n",
       "        text-align: right;\n",
       "    }\n",
       "</style>\n",
       "<table border=\"1\" class=\"dataframe\">\n",
       "  <thead>\n",
       "    <tr style=\"text-align: right;\">\n",
       "      <th></th>\n",
       "      <th>name</th>\n",
       "      <th>age</th>\n",
       "      <th>gender</th>\n",
       "    </tr>\n",
       "  </thead>\n",
       "  <tbody>\n",
       "    <tr>\n",
       "      <th>0</th>\n",
       "      <td>alice</td>\n",
       "      <td>25</td>\n",
       "      <td>female</td>\n",
       "    </tr>\n",
       "    <tr>\n",
       "      <th>1</th>\n",
       "      <td>bob</td>\n",
       "      <td>30</td>\n",
       "      <td>male</td>\n",
       "    </tr>\n",
       "    <tr>\n",
       "      <th>2</th>\n",
       "      <td>claire</td>\n",
       "      <td>27</td>\n",
       "      <td>female</td>\n",
       "    </tr>\n",
       "  </tbody>\n",
       "</table>\n",
       "</div>"
      ],
      "text/plain": [
       "     name  age  gender\n",
       "0   alice   25  female\n",
       "1     bob   30    male\n",
       "2  claire   27  female"
      ]
     },
     "execution_count": 10,
     "metadata": {},
     "output_type": "execute_result"
    }
   ],
   "source": [
    "data = pd.DataFrame(l, columns=[\"name\",\"age\",\"gender\"])\n",
    "data"
   ]
  },
  {
   "cell_type": "markdown",
   "id": "7a03286a",
   "metadata": {},
   "source": [
    "4. What is ‘DataFrame’ in pandas and how is it different from pandas.series? Explain with an example."
   ]
  },
  {
   "cell_type": "code",
   "execution_count": null,
   "id": "5c22ddab",
   "metadata": {},
   "outputs": [],
   "source": [
    "In the context of the pandas library in Python, \n",
    "\n",
    "a DataFrame is a two-dimensional data structure that represents tabular data,\n",
    "similar to a spreadsheet or a SQL table. \n",
    "It is one of the fundamental data structures provided by pandas for data manipulation and analysis.\n",
    "\n",
    "A DataFrame consists of rows and columns, where each column can contain different data types. \n",
    "It provides powerful indexing and data alignment features, making it easy to perform operations on data,\n",
    "such as filtering, sorting, grouping, and aggregating.\n",
    "\n",
    "On the other hand, a pandas Series is a one-dimensional labeled array that can hold data of any type.\n",
    "It is similar to a column in a DataFrame or a single column of data in a spreadsheet. \n",
    "A Series has a single column of data and an associated index that uniquely identifies each element in the Series."
   ]
  },
  {
   "cell_type": "code",
   "execution_count": 5,
   "id": "3266a833",
   "metadata": {},
   "outputs": [
    {
     "name": "stdout",
     "output_type": "stream",
     "text": [
      "0    1\n",
      "1    2\n",
      "2    3\n",
      "3    4\n",
      "4    5\n",
      "5    6\n",
      "dtype: int64\n",
      "<class 'pandas.core.series.Series'>\n"
     ]
    }
   ],
   "source": [
    "#  Ex :\n",
    "s1 = pd.Series([1,2,3,4,5,6])\n",
    "print(s1)\n",
    "print(type(s1))"
   ]
  },
  {
   "cell_type": "code",
   "execution_count": 12,
   "id": "7ddff627",
   "metadata": {},
   "outputs": [
    {
     "data": {
      "text/html": [
       "<div>\n",
       "<style scoped>\n",
       "    .dataframe tbody tr th:only-of-type {\n",
       "        vertical-align: middle;\n",
       "    }\n",
       "\n",
       "    .dataframe tbody tr th {\n",
       "        vertical-align: top;\n",
       "    }\n",
       "\n",
       "    .dataframe thead th {\n",
       "        text-align: right;\n",
       "    }\n",
       "</style>\n",
       "<table border=\"1\" class=\"dataframe\">\n",
       "  <thead>\n",
       "    <tr style=\"text-align: right;\">\n",
       "      <th></th>\n",
       "      <th>name</th>\n",
       "      <th>age</th>\n",
       "      <th>city</th>\n",
       "    </tr>\n",
       "  </thead>\n",
       "  <tbody>\n",
       "    <tr>\n",
       "      <th>0</th>\n",
       "      <td>dhruv</td>\n",
       "      <td>20</td>\n",
       "      <td>New York</td>\n",
       "    </tr>\n",
       "    <tr>\n",
       "      <th>1</th>\n",
       "      <td>panchal</td>\n",
       "      <td>21</td>\n",
       "      <td>London</td>\n",
       "    </tr>\n",
       "    <tr>\n",
       "      <th>2</th>\n",
       "      <td>pravin</td>\n",
       "      <td>25</td>\n",
       "      <td>Paris</td>\n",
       "    </tr>\n",
       "  </tbody>\n",
       "</table>\n",
       "</div>"
      ],
      "text/plain": [
       "      name  age      city\n",
       "0    dhruv   20  New York\n",
       "1  panchal   21    London\n",
       "2   pravin   25     Paris"
      ]
     },
     "execution_count": 12,
     "metadata": {},
     "output_type": "execute_result"
    }
   ],
   "source": [
    "#  Ex:\n",
    "\n",
    "# data = [[1,2,3],[2,3,4],[3,4,5]]\n",
    "data = {\n",
    "    \"name\":[\"dhruv\" , \"panchal\" , \"pravin\"],\n",
    "    \"age\" :[20,21,25],\n",
    "    \"city\":['New York', 'London', 'Paris']\n",
    "}\n",
    "data1 = pd.DataFrame(data)\n",
    "data1"
   ]
  },
  {
   "cell_type": "code",
   "execution_count": 13,
   "id": "8a170aa9",
   "metadata": {},
   "outputs": [
    {
     "name": "stdout",
     "output_type": "stream",
     "text": [
      "<class 'pandas.core.frame.DataFrame'>\n",
      "0      dhruv\n",
      "1    panchal\n",
      "2     pravin\n",
      "Name: name, dtype: object\n",
      "<class 'pandas.core.series.Series'>\n"
     ]
    }
   ],
   "source": [
    "print(type(data1))\n",
    "print(data1['name'])\n",
    "print(type(data1['name']))"
   ]
  },
  {
   "cell_type": "markdown",
   "id": "8c37ee99",
   "metadata": {},
   "source": [
    "5. What are some common functions you can use to manipulate data in a Pandas DataFrame? Can \n",
    "you give an example of when you might use one of these functions?"
   ]
  },
  {
   "cell_type": "markdown",
   "id": "d52a81b5",
   "metadata": {},
   "source": [
    "Pandas provides a wide range of functions and methods for data manipulation in a DataFrame.\n",
    "Here are some common functions you can use to manipulate data in a Pandas DataFrame:\n",
    "\n",
    "1.head() and tail(): These functions allow you to retrieve the first few rows (`head()`) or t\n",
    "    he last few rows (`tail()`) of a DataFrame. \n",
    "    They are useful for quickly inspecting the structure and contents of the DataFrame.\n",
    "\n",
    "2.info(): The `info()` function provides a summary of the DataFrame,\n",
    "    including the number of rows and columns, data types of each column, and memory usage. \n",
    "    It helps in understanding the overall structure of the DataFrame.\n",
    "\n",
    "3.describe(): This function generates descriptive statistics of the DataFrame,\n",
    "    including count, mean, standard deviation, minimum, maximum, and quartile values. \n",
    "    It provides insights into the distribution and summary statistics of numerical columns.\n",
    "\n",
    "4.sort_values(): This function allows you to sort the DataFrame based on one or more columns. \n",
    "    You can specify the column(s) to sort by and the sorting order (ascending or descending). \n",
    "    Sorting is useful when you want to arrange the data in a specific order for analysis or presentation.\n",
    "\n",
    "5.groupby(): The `groupby()` function enables you to group the data in the DataFrame based on one or more columns. \n",
    "    It is often used in combination with aggregation functions like `sum()`, `mean()`, `count()`, etc., to calculate summary statistics for each group. Grouping is useful for performing analysis on specific subsets of data.\n",
    "\n",
    "6.filter(): This function allows you to filter the DataFrame based on specific conditions. \n",
    "    You can define a Boolean expression to filter rows that meet certain criteria. \n",
    "    Filtering is useful when you want to extract specific subsets of data that satisfy certain conditions.\n",
    "\n",
    "7.fillna(): The `fillna()` function is used to fill missing or NaN (null) values in the DataFrame with \n",
    "    a specified value or a calculated value such as the mean or median. \n",
    "    It helps in handling missing data and preparing the DataFrame for further analysis.\n",
    "\n",
    "8.apply(): This function applies a function to each element or column of the DataFrame. \n",
    "    It is useful for performing custom transformations or calculations on the data. \n",
    "    You can use built-in functions or define your own custom functions to apply to the DataFrame.\n"
   ]
  },
  {
   "cell_type": "code",
   "execution_count": 14,
   "id": "494f559f",
   "metadata": {},
   "outputs": [
    {
     "data": {
      "text/html": [
       "<div>\n",
       "<style scoped>\n",
       "    .dataframe tbody tr th:only-of-type {\n",
       "        vertical-align: middle;\n",
       "    }\n",
       "\n",
       "    .dataframe tbody tr th {\n",
       "        vertical-align: top;\n",
       "    }\n",
       "\n",
       "    .dataframe thead th {\n",
       "        text-align: right;\n",
       "    }\n",
       "</style>\n",
       "<table border=\"1\" class=\"dataframe\">\n",
       "  <thead>\n",
       "    <tr style=\"text-align: right;\">\n",
       "      <th></th>\n",
       "      <th>name</th>\n",
       "      <th>age</th>\n",
       "      <th>city</th>\n",
       "    </tr>\n",
       "  </thead>\n",
       "  <tbody>\n",
       "    <tr>\n",
       "      <th>0</th>\n",
       "      <td>dhruv</td>\n",
       "      <td>20</td>\n",
       "      <td>New York</td>\n",
       "    </tr>\n",
       "    <tr>\n",
       "      <th>1</th>\n",
       "      <td>panchal</td>\n",
       "      <td>21</td>\n",
       "      <td>London</td>\n",
       "    </tr>\n",
       "    <tr>\n",
       "      <th>2</th>\n",
       "      <td>pravin</td>\n",
       "      <td>25</td>\n",
       "      <td>Paris</td>\n",
       "    </tr>\n",
       "  </tbody>\n",
       "</table>\n",
       "</div>"
      ],
      "text/plain": [
       "      name  age      city\n",
       "0    dhruv   20  New York\n",
       "1  panchal   21    London\n",
       "2   pravin   25     Paris"
      ]
     },
     "execution_count": 14,
     "metadata": {},
     "output_type": "execute_result"
    }
   ],
   "source": [
    "data = {\n",
    "    \"name\":[\"dhruv\" , \"panchal\" , \"pravin\"],\n",
    "    \"age\" :[20,21,25],\n",
    "    \"city\":['New York', 'London', 'Paris']\n",
    "}\n",
    "d1 = pd.DataFrame(data)\n",
    "d1"
   ]
  },
  {
   "cell_type": "code",
   "execution_count": 23,
   "id": "b7eeb4b3",
   "metadata": {},
   "outputs": [
    {
     "name": "stdout",
     "output_type": "stream",
     "text": [
      "<class 'pandas.core.frame.DataFrame'>\n",
      "RangeIndex: 3 entries, 0 to 2\n",
      "Data columns (total 3 columns):\n",
      " #   Column  Non-Null Count  Dtype \n",
      "---  ------  --------------  ----- \n",
      " 0   name    3 non-null      object\n",
      " 1   age     3 non-null      int64 \n",
      " 2   city    3 non-null      object\n",
      "dtypes: int64(1), object(2)\n",
      "memory usage: 200.0+ bytes\n"
     ]
    }
   ],
   "source": [
    "d1.info()"
   ]
  },
  {
   "cell_type": "code",
   "execution_count": 16,
   "id": "ad8c940c",
   "metadata": {},
   "outputs": [
    {
     "data": {
      "text/html": [
       "<div>\n",
       "<style scoped>\n",
       "    .dataframe tbody tr th:only-of-type {\n",
       "        vertical-align: middle;\n",
       "    }\n",
       "\n",
       "    .dataframe tbody tr th {\n",
       "        vertical-align: top;\n",
       "    }\n",
       "\n",
       "    .dataframe thead th {\n",
       "        text-align: right;\n",
       "    }\n",
       "</style>\n",
       "<table border=\"1\" class=\"dataframe\">\n",
       "  <thead>\n",
       "    <tr style=\"text-align: right;\">\n",
       "      <th></th>\n",
       "      <th>age</th>\n",
       "    </tr>\n",
       "  </thead>\n",
       "  <tbody>\n",
       "    <tr>\n",
       "      <th>count</th>\n",
       "      <td>3.000000</td>\n",
       "    </tr>\n",
       "    <tr>\n",
       "      <th>mean</th>\n",
       "      <td>22.000000</td>\n",
       "    </tr>\n",
       "    <tr>\n",
       "      <th>std</th>\n",
       "      <td>2.645751</td>\n",
       "    </tr>\n",
       "    <tr>\n",
       "      <th>min</th>\n",
       "      <td>20.000000</td>\n",
       "    </tr>\n",
       "    <tr>\n",
       "      <th>25%</th>\n",
       "      <td>20.500000</td>\n",
       "    </tr>\n",
       "    <tr>\n",
       "      <th>50%</th>\n",
       "      <td>21.000000</td>\n",
       "    </tr>\n",
       "    <tr>\n",
       "      <th>75%</th>\n",
       "      <td>23.000000</td>\n",
       "    </tr>\n",
       "    <tr>\n",
       "      <th>max</th>\n",
       "      <td>25.000000</td>\n",
       "    </tr>\n",
       "  </tbody>\n",
       "</table>\n",
       "</div>"
      ],
      "text/plain": [
       "             age\n",
       "count   3.000000\n",
       "mean   22.000000\n",
       "std     2.645751\n",
       "min    20.000000\n",
       "25%    20.500000\n",
       "50%    21.000000\n",
       "75%    23.000000\n",
       "max    25.000000"
      ]
     },
     "execution_count": 16,
     "metadata": {},
     "output_type": "execute_result"
    }
   ],
   "source": [
    "d1.describe()"
   ]
  },
  {
   "cell_type": "code",
   "execution_count": 17,
   "id": "705172d4",
   "metadata": {},
   "outputs": [
    {
     "data": {
      "text/html": [
       "<div>\n",
       "<style scoped>\n",
       "    .dataframe tbody tr th:only-of-type {\n",
       "        vertical-align: middle;\n",
       "    }\n",
       "\n",
       "    .dataframe tbody tr th {\n",
       "        vertical-align: top;\n",
       "    }\n",
       "\n",
       "    .dataframe thead th {\n",
       "        text-align: right;\n",
       "    }\n",
       "</style>\n",
       "<table border=\"1\" class=\"dataframe\">\n",
       "  <thead>\n",
       "    <tr style=\"text-align: right;\">\n",
       "      <th></th>\n",
       "      <th>name</th>\n",
       "      <th>age</th>\n",
       "      <th>city</th>\n",
       "    </tr>\n",
       "  </thead>\n",
       "  <tbody>\n",
       "    <tr>\n",
       "      <th>count</th>\n",
       "      <td>3</td>\n",
       "      <td>3.000000</td>\n",
       "      <td>3</td>\n",
       "    </tr>\n",
       "    <tr>\n",
       "      <th>unique</th>\n",
       "      <td>3</td>\n",
       "      <td>NaN</td>\n",
       "      <td>3</td>\n",
       "    </tr>\n",
       "    <tr>\n",
       "      <th>top</th>\n",
       "      <td>dhruv</td>\n",
       "      <td>NaN</td>\n",
       "      <td>New York</td>\n",
       "    </tr>\n",
       "    <tr>\n",
       "      <th>freq</th>\n",
       "      <td>1</td>\n",
       "      <td>NaN</td>\n",
       "      <td>1</td>\n",
       "    </tr>\n",
       "    <tr>\n",
       "      <th>mean</th>\n",
       "      <td>NaN</td>\n",
       "      <td>22.000000</td>\n",
       "      <td>NaN</td>\n",
       "    </tr>\n",
       "    <tr>\n",
       "      <th>std</th>\n",
       "      <td>NaN</td>\n",
       "      <td>2.645751</td>\n",
       "      <td>NaN</td>\n",
       "    </tr>\n",
       "    <tr>\n",
       "      <th>min</th>\n",
       "      <td>NaN</td>\n",
       "      <td>20.000000</td>\n",
       "      <td>NaN</td>\n",
       "    </tr>\n",
       "    <tr>\n",
       "      <th>25%</th>\n",
       "      <td>NaN</td>\n",
       "      <td>20.500000</td>\n",
       "      <td>NaN</td>\n",
       "    </tr>\n",
       "    <tr>\n",
       "      <th>50%</th>\n",
       "      <td>NaN</td>\n",
       "      <td>21.000000</td>\n",
       "      <td>NaN</td>\n",
       "    </tr>\n",
       "    <tr>\n",
       "      <th>75%</th>\n",
       "      <td>NaN</td>\n",
       "      <td>23.000000</td>\n",
       "      <td>NaN</td>\n",
       "    </tr>\n",
       "    <tr>\n",
       "      <th>max</th>\n",
       "      <td>NaN</td>\n",
       "      <td>25.000000</td>\n",
       "      <td>NaN</td>\n",
       "    </tr>\n",
       "  </tbody>\n",
       "</table>\n",
       "</div>"
      ],
      "text/plain": [
       "         name        age      city\n",
       "count       3   3.000000         3\n",
       "unique      3        NaN         3\n",
       "top     dhruv        NaN  New York\n",
       "freq        1        NaN         1\n",
       "mean      NaN  22.000000       NaN\n",
       "std       NaN   2.645751       NaN\n",
       "min       NaN  20.000000       NaN\n",
       "25%       NaN  20.500000       NaN\n",
       "50%       NaN  21.000000       NaN\n",
       "75%       NaN  23.000000       NaN\n",
       "max       NaN  25.000000       NaN"
      ]
     },
     "execution_count": 17,
     "metadata": {},
     "output_type": "execute_result"
    }
   ],
   "source": [
    "d1.describe(include='all')"
   ]
  },
  {
   "cell_type": "code",
   "execution_count": 19,
   "id": "da1e23a3",
   "metadata": {},
   "outputs": [
    {
     "data": {
      "text/html": [
       "<div>\n",
       "<style scoped>\n",
       "    .dataframe tbody tr th:only-of-type {\n",
       "        vertical-align: middle;\n",
       "    }\n",
       "\n",
       "    .dataframe tbody tr th {\n",
       "        vertical-align: top;\n",
       "    }\n",
       "\n",
       "    .dataframe thead th {\n",
       "        text-align: right;\n",
       "    }\n",
       "</style>\n",
       "<table border=\"1\" class=\"dataframe\">\n",
       "  <thead>\n",
       "    <tr style=\"text-align: right;\">\n",
       "      <th></th>\n",
       "      <th>name</th>\n",
       "      <th>age</th>\n",
       "      <th>city</th>\n",
       "    </tr>\n",
       "  </thead>\n",
       "  <tbody>\n",
       "    <tr>\n",
       "      <th>0</th>\n",
       "      <td>dhruv</td>\n",
       "      <td>20</td>\n",
       "      <td>New York</td>\n",
       "    </tr>\n",
       "    <tr>\n",
       "      <th>1</th>\n",
       "      <td>panchal</td>\n",
       "      <td>21</td>\n",
       "      <td>London</td>\n",
       "    </tr>\n",
       "    <tr>\n",
       "      <th>2</th>\n",
       "      <td>pravin</td>\n",
       "      <td>25</td>\n",
       "      <td>Paris</td>\n",
       "    </tr>\n",
       "  </tbody>\n",
       "</table>\n",
       "</div>"
      ],
      "text/plain": [
       "      name  age      city\n",
       "0    dhruv   20  New York\n",
       "1  panchal   21    London\n",
       "2   pravin   25     Paris"
      ]
     },
     "execution_count": 19,
     "metadata": {},
     "output_type": "execute_result"
    }
   ],
   "source": [
    "d1.head()"
   ]
  },
  {
   "cell_type": "code",
   "execution_count": 20,
   "id": "e4690b03",
   "metadata": {},
   "outputs": [
    {
     "data": {
      "text/html": [
       "<div>\n",
       "<style scoped>\n",
       "    .dataframe tbody tr th:only-of-type {\n",
       "        vertical-align: middle;\n",
       "    }\n",
       "\n",
       "    .dataframe tbody tr th {\n",
       "        vertical-align: top;\n",
       "    }\n",
       "\n",
       "    .dataframe thead th {\n",
       "        text-align: right;\n",
       "    }\n",
       "</style>\n",
       "<table border=\"1\" class=\"dataframe\">\n",
       "  <thead>\n",
       "    <tr style=\"text-align: right;\">\n",
       "      <th></th>\n",
       "      <th>name</th>\n",
       "      <th>age</th>\n",
       "      <th>city</th>\n",
       "    </tr>\n",
       "  </thead>\n",
       "  <tbody>\n",
       "    <tr>\n",
       "      <th>0</th>\n",
       "      <td>dhruv</td>\n",
       "      <td>20</td>\n",
       "      <td>New York</td>\n",
       "    </tr>\n",
       "    <tr>\n",
       "      <th>1</th>\n",
       "      <td>panchal</td>\n",
       "      <td>21</td>\n",
       "      <td>London</td>\n",
       "    </tr>\n",
       "    <tr>\n",
       "      <th>2</th>\n",
       "      <td>pravin</td>\n",
       "      <td>25</td>\n",
       "      <td>Paris</td>\n",
       "    </tr>\n",
       "  </tbody>\n",
       "</table>\n",
       "</div>"
      ],
      "text/plain": [
       "      name  age      city\n",
       "0    dhruv   20  New York\n",
       "1  panchal   21    London\n",
       "2   pravin   25     Paris"
      ]
     },
     "execution_count": 20,
     "metadata": {},
     "output_type": "execute_result"
    }
   ],
   "source": [
    "d1.tail()"
   ]
  },
  {
   "cell_type": "code",
   "execution_count": 22,
   "id": "c7ecd350",
   "metadata": {},
   "outputs": [
    {
     "data": {
      "text/html": [
       "<div>\n",
       "<style scoped>\n",
       "    .dataframe tbody tr th:only-of-type {\n",
       "        vertical-align: middle;\n",
       "    }\n",
       "\n",
       "    .dataframe tbody tr th {\n",
       "        vertical-align: top;\n",
       "    }\n",
       "\n",
       "    .dataframe thead th {\n",
       "        text-align: right;\n",
       "    }\n",
       "</style>\n",
       "<table border=\"1\" class=\"dataframe\">\n",
       "  <thead>\n",
       "    <tr style=\"text-align: right;\">\n",
       "      <th></th>\n",
       "      <th>name</th>\n",
       "      <th>age</th>\n",
       "      <th>city</th>\n",
       "    </tr>\n",
       "  </thead>\n",
       "  <tbody>\n",
       "    <tr>\n",
       "      <th>1</th>\n",
       "      <td>panchal</td>\n",
       "      <td>21</td>\n",
       "      <td>London</td>\n",
       "    </tr>\n",
       "    <tr>\n",
       "      <th>0</th>\n",
       "      <td>dhruv</td>\n",
       "      <td>20</td>\n",
       "      <td>New York</td>\n",
       "    </tr>\n",
       "    <tr>\n",
       "      <th>2</th>\n",
       "      <td>pravin</td>\n",
       "      <td>25</td>\n",
       "      <td>Paris</td>\n",
       "    </tr>\n",
       "  </tbody>\n",
       "</table>\n",
       "</div>"
      ],
      "text/plain": [
       "      name  age      city\n",
       "1  panchal   21    London\n",
       "0    dhruv   20  New York\n",
       "2   pravin   25     Paris"
      ]
     },
     "execution_count": 22,
     "metadata": {},
     "output_type": "execute_result"
    }
   ],
   "source": [
    "d1.sort_values(by='city')"
   ]
  },
  {
   "cell_type": "markdown",
   "id": "90eef404",
   "metadata": {},
   "source": [
    "6. Which of the following is mutable in nature Series, DataFrame, Panel?"
   ]
  },
  {
   "cell_type": "code",
   "execution_count": null,
   "id": "27d92695",
   "metadata": {},
   "outputs": [],
   "source": [
    "In the pandas library, which is commonly used for data manipulation and analysis in Python, \n",
    "both Series and DataFrame are mutable, while Panel is not.\n",
    "\n",
    "A Series in pandas is a one-dimensional array-like object that can hold any data type.\n",
    "You can modify its elements by assigning new values to specific positions or by using methods such as loc \n",
    "to change specific values.\n",
    "\n",
    "Similarly, a DataFrame in pandas is a two-dimensional labeled data structure with columns of potentially different data types.\n",
    "You can modify its contents by assigning new values to specific cells, columns, or rows using methods like loc \n",
    "by using functions like fillna or replace to modify specific values or fill missing values.\n",
    "\n",
    "On the other hand, \n",
    "Panel is a three-dimensional data structure in pandas that can hold data of different types. \n",
    "However, Panel is considered deprecated in recent versions of pandas, and it is recommended to use other \n",
    "data structures like DataFrame or multi-indexed DataFrames to represent three-dimensional data. \n",
    "Panels were replaced by the more flexible and powerful MultiIndex functionality available in pandas DataFrames.\n",
    "\n",
    "To summarize, Series and DataFrame are mutable in nature, meaning you can change their values after creation, \n",
    "while Panel is not typically used anymore and is not mutable."
   ]
  },
  {
   "cell_type": "code",
   "execution_count": 27,
   "id": "681c5fc4",
   "metadata": {},
   "outputs": [
    {
     "data": {
      "text/plain": [
       "0    1\n",
       "1    2\n",
       "2    3\n",
       "3    4\n",
       "4    5\n",
       "dtype: int64"
      ]
     },
     "execution_count": 27,
     "metadata": {},
     "output_type": "execute_result"
    }
   ],
   "source": [
    "# Ex: \n",
    "\n",
    "s1 = pd.Series([1,2,3,4,5])\n",
    "s1"
   ]
  },
  {
   "cell_type": "code",
   "execution_count": 31,
   "id": "0371d6c6",
   "metadata": {},
   "outputs": [
    {
     "name": "stdout",
     "output_type": "stream",
     "text": [
      "2\n"
     ]
    }
   ],
   "source": [
    "print(s1[1])\n",
    "s1[1] = 4\n"
   ]
  },
  {
   "cell_type": "code",
   "execution_count": 32,
   "id": "b8e06bbd",
   "metadata": {},
   "outputs": [
    {
     "name": "stdout",
     "output_type": "stream",
     "text": [
      "0    1\n",
      "1    4\n",
      "2    3\n",
      "3    4\n",
      "4    5\n",
      "dtype: int64\n"
     ]
    }
   ],
   "source": [
    "print(s1)"
   ]
  },
  {
   "cell_type": "code",
   "execution_count": 34,
   "id": "d46255c8",
   "metadata": {},
   "outputs": [
    {
     "data": {
      "text/html": [
       "<div>\n",
       "<style scoped>\n",
       "    .dataframe tbody tr th:only-of-type {\n",
       "        vertical-align: middle;\n",
       "    }\n",
       "\n",
       "    .dataframe tbody tr th {\n",
       "        vertical-align: top;\n",
       "    }\n",
       "\n",
       "    .dataframe thead th {\n",
       "        text-align: right;\n",
       "    }\n",
       "</style>\n",
       "<table border=\"1\" class=\"dataframe\">\n",
       "  <thead>\n",
       "    <tr style=\"text-align: right;\">\n",
       "      <th></th>\n",
       "      <th>id</th>\n",
       "      <th>name</th>\n",
       "      <th>age</th>\n",
       "    </tr>\n",
       "  </thead>\n",
       "  <tbody>\n",
       "    <tr>\n",
       "      <th>0</th>\n",
       "      <td>1</td>\n",
       "      <td>Dhruv</td>\n",
       "      <td>20</td>\n",
       "    </tr>\n",
       "    <tr>\n",
       "      <th>1</th>\n",
       "      <td>2</td>\n",
       "      <td>Panchal</td>\n",
       "      <td>21</td>\n",
       "    </tr>\n",
       "    <tr>\n",
       "      <th>2</th>\n",
       "      <td>3</td>\n",
       "      <td>chintan</td>\n",
       "      <td>22</td>\n",
       "    </tr>\n",
       "    <tr>\n",
       "      <th>3</th>\n",
       "      <td>4</td>\n",
       "      <td>hiten</td>\n",
       "      <td>20</td>\n",
       "    </tr>\n",
       "    <tr>\n",
       "      <th>4</th>\n",
       "      <td>5</td>\n",
       "      <td>ved</td>\n",
       "      <td>21</td>\n",
       "    </tr>\n",
       "  </tbody>\n",
       "</table>\n",
       "</div>"
      ],
      "text/plain": [
       "   id     name  age\n",
       "0   1    Dhruv   20\n",
       "1   2  Panchal   21\n",
       "2   3  chintan   22\n",
       "3   4    hiten   20\n",
       "4   5      ved   21"
      ]
     },
     "execution_count": 34,
     "metadata": {},
     "output_type": "execute_result"
    }
   ],
   "source": [
    "data = {\n",
    "    \"id\" : [1,2,3,4,5],\n",
    "    \"name\" :[\"Dhruv\" , \"Panchal\" , \"chintan\",\"hiten\",\"ved\"],\n",
    "    \"age\" : [20,21,22,20,21]\n",
    "}\n",
    "\n",
    "d1 = pd.DataFrame(data)\n",
    "d1"
   ]
  },
  {
   "cell_type": "code",
   "execution_count": 39,
   "id": "57807cf7",
   "metadata": {},
   "outputs": [],
   "source": [
    "d1[[\"age\"]] = d1[[\"age\"]].apply(lambda x : x+1)"
   ]
  },
  {
   "cell_type": "code",
   "execution_count": 40,
   "id": "4ca09994",
   "metadata": {},
   "outputs": [
    {
     "data": {
      "text/html": [
       "<div>\n",
       "<style scoped>\n",
       "    .dataframe tbody tr th:only-of-type {\n",
       "        vertical-align: middle;\n",
       "    }\n",
       "\n",
       "    .dataframe tbody tr th {\n",
       "        vertical-align: top;\n",
       "    }\n",
       "\n",
       "    .dataframe thead th {\n",
       "        text-align: right;\n",
       "    }\n",
       "</style>\n",
       "<table border=\"1\" class=\"dataframe\">\n",
       "  <thead>\n",
       "    <tr style=\"text-align: right;\">\n",
       "      <th></th>\n",
       "      <th>age</th>\n",
       "    </tr>\n",
       "  </thead>\n",
       "  <tbody>\n",
       "    <tr>\n",
       "      <th>0</th>\n",
       "      <td>21</td>\n",
       "    </tr>\n",
       "    <tr>\n",
       "      <th>1</th>\n",
       "      <td>22</td>\n",
       "    </tr>\n",
       "    <tr>\n",
       "      <th>2</th>\n",
       "      <td>23</td>\n",
       "    </tr>\n",
       "    <tr>\n",
       "      <th>3</th>\n",
       "      <td>21</td>\n",
       "    </tr>\n",
       "    <tr>\n",
       "      <th>4</th>\n",
       "      <td>22</td>\n",
       "    </tr>\n",
       "  </tbody>\n",
       "</table>\n",
       "</div>"
      ],
      "text/plain": [
       "   age\n",
       "0   21\n",
       "1   22\n",
       "2   23\n",
       "3   21\n",
       "4   22"
      ]
     },
     "execution_count": 40,
     "metadata": {},
     "output_type": "execute_result"
    }
   ],
   "source": [
    "d1[[\"age\"]]"
   ]
  },
  {
   "cell_type": "code",
   "execution_count": 41,
   "id": "0cdad23e",
   "metadata": {},
   "outputs": [],
   "source": [
    "# panel is not mutable "
   ]
  },
  {
   "cell_type": "markdown",
   "id": "1484bbc4",
   "metadata": {},
   "source": [
    "7. Create a DataFrame using multiple Series. Explain with an example."
   ]
  },
  {
   "cell_type": "code",
   "execution_count": 44,
   "id": "c399e5b7",
   "metadata": {},
   "outputs": [
    {
     "data": {
      "text/plain": [
       "0    1\n",
       "1    2\n",
       "2    3\n",
       "3    4\n",
       "4    5\n",
       "dtype: int64"
      ]
     },
     "execution_count": 44,
     "metadata": {},
     "output_type": "execute_result"
    }
   ],
   "source": [
    "s1 = [1,2,3,4,5]\n",
    "s2 = [2,3,4,5,6]\n",
    "s3 = [5,6,7,8,9]\n",
    "se1 = pd.Series(s1)\n",
    "se2 = pd.Series(s2)\n",
    "se3 = pd.Series(s3)\n",
    "se1"
   ]
  },
  {
   "cell_type": "code",
   "execution_count": 46,
   "id": "55384844",
   "metadata": {},
   "outputs": [],
   "source": [
    "data1 = pd.DataFrame({\"c1\" : list(se1),\n",
    "                     \"c2\" : list(se2),\n",
    "                     \"c3\" : list(se3)\n",
    "                     })"
   ]
  },
  {
   "cell_type": "code",
   "execution_count": 47,
   "id": "cc116875",
   "metadata": {},
   "outputs": [
    {
     "data": {
      "text/html": [
       "<div>\n",
       "<style scoped>\n",
       "    .dataframe tbody tr th:only-of-type {\n",
       "        vertical-align: middle;\n",
       "    }\n",
       "\n",
       "    .dataframe tbody tr th {\n",
       "        vertical-align: top;\n",
       "    }\n",
       "\n",
       "    .dataframe thead th {\n",
       "        text-align: right;\n",
       "    }\n",
       "</style>\n",
       "<table border=\"1\" class=\"dataframe\">\n",
       "  <thead>\n",
       "    <tr style=\"text-align: right;\">\n",
       "      <th></th>\n",
       "      <th>c1</th>\n",
       "      <th>c2</th>\n",
       "      <th>c3</th>\n",
       "    </tr>\n",
       "  </thead>\n",
       "  <tbody>\n",
       "    <tr>\n",
       "      <th>0</th>\n",
       "      <td>1</td>\n",
       "      <td>2</td>\n",
       "      <td>5</td>\n",
       "    </tr>\n",
       "    <tr>\n",
       "      <th>1</th>\n",
       "      <td>2</td>\n",
       "      <td>3</td>\n",
       "      <td>6</td>\n",
       "    </tr>\n",
       "    <tr>\n",
       "      <th>2</th>\n",
       "      <td>3</td>\n",
       "      <td>4</td>\n",
       "      <td>7</td>\n",
       "    </tr>\n",
       "    <tr>\n",
       "      <th>3</th>\n",
       "      <td>4</td>\n",
       "      <td>5</td>\n",
       "      <td>8</td>\n",
       "    </tr>\n",
       "    <tr>\n",
       "      <th>4</th>\n",
       "      <td>5</td>\n",
       "      <td>6</td>\n",
       "      <td>9</td>\n",
       "    </tr>\n",
       "  </tbody>\n",
       "</table>\n",
       "</div>"
      ],
      "text/plain": [
       "   c1  c2  c3\n",
       "0   1   2   5\n",
       "1   2   3   6\n",
       "2   3   4   7\n",
       "3   4   5   8\n",
       "4   5   6   9"
      ]
     },
     "execution_count": 47,
     "metadata": {},
     "output_type": "execute_result"
    }
   ],
   "source": [
    "data1"
   ]
  },
  {
   "cell_type": "code",
   "execution_count": 48,
   "id": "a070c4fd",
   "metadata": {},
   "outputs": [],
   "source": [
    "d1 =pd.concat([se1,se2,se2],axis=1)"
   ]
  },
  {
   "cell_type": "code",
   "execution_count": 49,
   "id": "72799f4b",
   "metadata": {},
   "outputs": [
    {
     "data": {
      "text/html": [
       "<div>\n",
       "<style scoped>\n",
       "    .dataframe tbody tr th:only-of-type {\n",
       "        vertical-align: middle;\n",
       "    }\n",
       "\n",
       "    .dataframe tbody tr th {\n",
       "        vertical-align: top;\n",
       "    }\n",
       "\n",
       "    .dataframe thead th {\n",
       "        text-align: right;\n",
       "    }\n",
       "</style>\n",
       "<table border=\"1\" class=\"dataframe\">\n",
       "  <thead>\n",
       "    <tr style=\"text-align: right;\">\n",
       "      <th></th>\n",
       "      <th>0</th>\n",
       "      <th>1</th>\n",
       "      <th>2</th>\n",
       "    </tr>\n",
       "  </thead>\n",
       "  <tbody>\n",
       "    <tr>\n",
       "      <th>0</th>\n",
       "      <td>1</td>\n",
       "      <td>2</td>\n",
       "      <td>2</td>\n",
       "    </tr>\n",
       "    <tr>\n",
       "      <th>1</th>\n",
       "      <td>2</td>\n",
       "      <td>3</td>\n",
       "      <td>3</td>\n",
       "    </tr>\n",
       "    <tr>\n",
       "      <th>2</th>\n",
       "      <td>3</td>\n",
       "      <td>4</td>\n",
       "      <td>4</td>\n",
       "    </tr>\n",
       "    <tr>\n",
       "      <th>3</th>\n",
       "      <td>4</td>\n",
       "      <td>5</td>\n",
       "      <td>5</td>\n",
       "    </tr>\n",
       "    <tr>\n",
       "      <th>4</th>\n",
       "      <td>5</td>\n",
       "      <td>6</td>\n",
       "      <td>6</td>\n",
       "    </tr>\n",
       "  </tbody>\n",
       "</table>\n",
       "</div>"
      ],
      "text/plain": [
       "   0  1  2\n",
       "0  1  2  2\n",
       "1  2  3  3\n",
       "2  3  4  4\n",
       "3  4  5  5\n",
       "4  5  6  6"
      ]
     },
     "execution_count": 49,
     "metadata": {},
     "output_type": "execute_result"
    }
   ],
   "source": [
    "d1"
   ]
  }
 ],
 "metadata": {
  "kernelspec": {
   "display_name": "Python 3 (ipykernel)",
   "language": "python",
   "name": "python3"
  },
  "language_info": {
   "codemirror_mode": {
    "name": "ipython",
    "version": 3
   },
   "file_extension": ".py",
   "mimetype": "text/x-python",
   "name": "python",
   "nbconvert_exporter": "python",
   "pygments_lexer": "ipython3",
   "version": "3.9.7"
  }
 },
 "nbformat": 4,
 "nbformat_minor": 5
}
