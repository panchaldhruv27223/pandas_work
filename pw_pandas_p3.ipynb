{
 "cells": [
  {
   "cell_type": "markdown",
   "id": "81bf6acd",
   "metadata": {},
   "source": [
    "Consider following code to answer further questions:\n",
    "\n",
    "import pandas as pd\n",
    "\n",
    "course_name = [‘Data Science’, ‘Machine Learning’, ‘Big Data’, ‘Data Engineer’]\n",
    "\n",
    "duration =  [2,3,6,4]\n",
    "\n",
    "df = pd.DataFrame(data = {‘course_name’ : course_name, ‘duration’ : duration})\n",
    "\n",
    "Q1. Write a code to print the data present in the second row of the dataframe, df."
   ]
  },
  {
   "cell_type": "code",
   "execution_count": 1,
   "id": "4565a520",
   "metadata": {},
   "outputs": [
    {
     "data": {
      "text/html": [
       "<div>\n",
       "<style scoped>\n",
       "    .dataframe tbody tr th:only-of-type {\n",
       "        vertical-align: middle;\n",
       "    }\n",
       "\n",
       "    .dataframe tbody tr th {\n",
       "        vertical-align: top;\n",
       "    }\n",
       "\n",
       "    .dataframe thead th {\n",
       "        text-align: right;\n",
       "    }\n",
       "</style>\n",
       "<table border=\"1\" class=\"dataframe\">\n",
       "  <thead>\n",
       "    <tr style=\"text-align: right;\">\n",
       "      <th></th>\n",
       "      <th>course_name</th>\n",
       "      <th>duration</th>\n",
       "    </tr>\n",
       "  </thead>\n",
       "  <tbody>\n",
       "    <tr>\n",
       "      <th>0</th>\n",
       "      <td>Data Science</td>\n",
       "      <td>2</td>\n",
       "    </tr>\n",
       "    <tr>\n",
       "      <th>1</th>\n",
       "      <td>Machine Learning</td>\n",
       "      <td>3</td>\n",
       "    </tr>\n",
       "    <tr>\n",
       "      <th>2</th>\n",
       "      <td>Big Data</td>\n",
       "      <td>6</td>\n",
       "    </tr>\n",
       "    <tr>\n",
       "      <th>3</th>\n",
       "      <td>Data Engineer</td>\n",
       "      <td>4</td>\n",
       "    </tr>\n",
       "  </tbody>\n",
       "</table>\n",
       "</div>"
      ],
      "text/plain": [
       "        course_name  duration\n",
       "0      Data Science         2\n",
       "1  Machine Learning         3\n",
       "2          Big Data         6\n",
       "3     Data Engineer         4"
      ]
     },
     "execution_count": 1,
     "metadata": {},
     "output_type": "execute_result"
    }
   ],
   "source": [
    "import pandas as pd\n",
    "course_name = [\"Data Science\", \"Machine Learning\", \"Big Data\", \"Data Engineer\"]\n",
    "duration =  [2,3,6,4]\n",
    "df = pd.DataFrame(data = {\"course_name\" : course_name, \"duration\" : duration})\n",
    "df"
   ]
  },
  {
   "cell_type": "code",
   "execution_count": 2,
   "id": "e5ed3b5d",
   "metadata": {},
   "outputs": [
    {
     "data": {
      "text/plain": [
       "course_name    Machine Learning\n",
       "duration                      3\n",
       "Name: 1, dtype: object"
      ]
     },
     "execution_count": 2,
     "metadata": {},
     "output_type": "execute_result"
    }
   ],
   "source": [
    "df.loc[1]"
   ]
  },
  {
   "cell_type": "code",
   "execution_count": 3,
   "id": "ef101001",
   "metadata": {},
   "outputs": [
    {
     "data": {
      "text/plain": [
       "course_name    Machine Learning\n",
       "duration                      3\n",
       "Name: 1, dtype: object"
      ]
     },
     "execution_count": 3,
     "metadata": {},
     "output_type": "execute_result"
    }
   ],
   "source": [
    "df.iloc[1]"
   ]
  },
  {
   "cell_type": "code",
   "execution_count": 4,
   "id": "01e9b0d6",
   "metadata": {},
   "outputs": [
    {
     "data": {
      "text/html": [
       "<div>\n",
       "<style scoped>\n",
       "    .dataframe tbody tr th:only-of-type {\n",
       "        vertical-align: middle;\n",
       "    }\n",
       "\n",
       "    .dataframe tbody tr th {\n",
       "        vertical-align: top;\n",
       "    }\n",
       "\n",
       "    .dataframe thead th {\n",
       "        text-align: right;\n",
       "    }\n",
       "</style>\n",
       "<table border=\"1\" class=\"dataframe\">\n",
       "  <thead>\n",
       "    <tr style=\"text-align: right;\">\n",
       "      <th></th>\n",
       "      <th>course_name</th>\n",
       "      <th>duration</th>\n",
       "    </tr>\n",
       "  </thead>\n",
       "  <tbody>\n",
       "    <tr>\n",
       "      <th>1</th>\n",
       "      <td>Machine Learning</td>\n",
       "      <td>3</td>\n",
       "    </tr>\n",
       "  </tbody>\n",
       "</table>\n",
       "</div>"
      ],
      "text/plain": [
       "        course_name  duration\n",
       "1  Machine Learning         3"
      ]
     },
     "execution_count": 4,
     "metadata": {},
     "output_type": "execute_result"
    }
   ],
   "source": [
    "df[[\"course_name\" , \"duration\"]][1:2]"
   ]
  },
  {
   "cell_type": "markdown",
   "id": "6f358684",
   "metadata": {},
   "source": [
    "Q2. What is the difference between the functions loc and iloc in pandas.DataFrame?"
   ]
  },
  {
   "cell_type": "raw",
   "id": "71f75fa9",
   "metadata": {},
   "source": [
    "the functions loc and iloc are used to access and manipulate data in a DataFrame, \n",
    "but they have some differences in their functionality.\n",
    "\n",
    "1. loc:\n",
    "   - loc is label-based indexing, meaning it is used to access rows and columns based on their labels or index values.\n",
    "   - It accepts label-based indexing for both rows and columns.\n",
    "   - When using loc, you specify the row label(s) and column label(s) explicitly.\n",
    "\n",
    "2. iloc:\n",
    "   - iloc is integer-based indexing, meaning it is used to access rows and columns based on their integer positions.\n",
    "   - It accepts integer-based indexing for both rows and columns.\n",
    "   - When using iloc, you specify the row position(s) and column position(s) explicitly.\n",
    "\n",
    "In summary, loc uses label-based indexing, \n",
    "allowing you to access data by specifying the labels of rows and columns. \n",
    "On the other hand, iloc uses integer-based indexing, allowing you to access data by specifying the integer positions \n",
    "of rows and columns."
   ]
  },
  {
   "cell_type": "markdown",
   "id": "0cd65825",
   "metadata": {},
   "source": [
    "Q3. Reindex the given dataframe using a variable, reindex = [3,0,1,2] and store it in the variable, new_df \n",
    "then find the output for both new_df.loc[2] and new_df.iloc[2]."
   ]
  },
  {
   "cell_type": "code",
   "execution_count": 6,
   "id": "9742c043",
   "metadata": {},
   "outputs": [
    {
     "data": {
      "text/html": [
       "<div>\n",
       "<style scoped>\n",
       "    .dataframe tbody tr th:only-of-type {\n",
       "        vertical-align: middle;\n",
       "    }\n",
       "\n",
       "    .dataframe tbody tr th {\n",
       "        vertical-align: top;\n",
       "    }\n",
       "\n",
       "    .dataframe thead th {\n",
       "        text-align: right;\n",
       "    }\n",
       "</style>\n",
       "<table border=\"1\" class=\"dataframe\">\n",
       "  <thead>\n",
       "    <tr style=\"text-align: right;\">\n",
       "      <th></th>\n",
       "      <th>course_name</th>\n",
       "      <th>duration</th>\n",
       "    </tr>\n",
       "  </thead>\n",
       "  <tbody>\n",
       "    <tr>\n",
       "      <th>0</th>\n",
       "      <td>Data Science</td>\n",
       "      <td>2</td>\n",
       "    </tr>\n",
       "    <tr>\n",
       "      <th>1</th>\n",
       "      <td>Machine Learning</td>\n",
       "      <td>3</td>\n",
       "    </tr>\n",
       "    <tr>\n",
       "      <th>2</th>\n",
       "      <td>Big Data</td>\n",
       "      <td>6</td>\n",
       "    </tr>\n",
       "    <tr>\n",
       "      <th>3</th>\n",
       "      <td>Data Engineer</td>\n",
       "      <td>4</td>\n",
       "    </tr>\n",
       "  </tbody>\n",
       "</table>\n",
       "</div>"
      ],
      "text/plain": [
       "        course_name  duration\n",
       "0      Data Science         2\n",
       "1  Machine Learning         3\n",
       "2          Big Data         6\n",
       "3     Data Engineer         4"
      ]
     },
     "execution_count": 6,
     "metadata": {},
     "output_type": "execute_result"
    }
   ],
   "source": [
    "df"
   ]
  },
  {
   "cell_type": "code",
   "execution_count": 7,
   "id": "13a34226",
   "metadata": {},
   "outputs": [
    {
     "data": {
      "text/html": [
       "<div>\n",
       "<style scoped>\n",
       "    .dataframe tbody tr th:only-of-type {\n",
       "        vertical-align: middle;\n",
       "    }\n",
       "\n",
       "    .dataframe tbody tr th {\n",
       "        vertical-align: top;\n",
       "    }\n",
       "\n",
       "    .dataframe thead th {\n",
       "        text-align: right;\n",
       "    }\n",
       "</style>\n",
       "<table border=\"1\" class=\"dataframe\">\n",
       "  <thead>\n",
       "    <tr style=\"text-align: right;\">\n",
       "      <th></th>\n",
       "      <th>course_name</th>\n",
       "      <th>duration</th>\n",
       "    </tr>\n",
       "  </thead>\n",
       "  <tbody>\n",
       "    <tr>\n",
       "      <th>3</th>\n",
       "      <td>Data Engineer</td>\n",
       "      <td>4</td>\n",
       "    </tr>\n",
       "    <tr>\n",
       "      <th>0</th>\n",
       "      <td>Data Science</td>\n",
       "      <td>2</td>\n",
       "    </tr>\n",
       "    <tr>\n",
       "      <th>1</th>\n",
       "      <td>Machine Learning</td>\n",
       "      <td>3</td>\n",
       "    </tr>\n",
       "    <tr>\n",
       "      <th>2</th>\n",
       "      <td>Big Data</td>\n",
       "      <td>6</td>\n",
       "    </tr>\n",
       "  </tbody>\n",
       "</table>\n",
       "</div>"
      ],
      "text/plain": [
       "        course_name  duration\n",
       "3     Data Engineer         4\n",
       "0      Data Science         2\n",
       "1  Machine Learning         3\n",
       "2          Big Data         6"
      ]
     },
     "execution_count": 7,
     "metadata": {},
     "output_type": "execute_result"
    }
   ],
   "source": [
    "df_new = df.reindex([3,0,1,2])\n",
    "df_new"
   ]
  },
  {
   "cell_type": "code",
   "execution_count": 8,
   "id": "9974de21",
   "metadata": {},
   "outputs": [
    {
     "data": {
      "text/plain": [
       "course_name    Big Data\n",
       "duration              6\n",
       "Name: 2, dtype: object"
      ]
     },
     "execution_count": 8,
     "metadata": {},
     "output_type": "execute_result"
    }
   ],
   "source": [
    "df_new.loc[2]\n",
    "\n",
    "# so we can conclude loc take label based index. it give us row which is labeled as 2.\n",
    "# access rows and columns based on their labels or index values."
   ]
  },
  {
   "cell_type": "code",
   "execution_count": 9,
   "id": "7ad059fe",
   "metadata": {},
   "outputs": [
    {
     "data": {
      "text/plain": [
       "course_name    Machine Learning\n",
       "duration                      3\n",
       "Name: 1, dtype: object"
      ]
     },
     "execution_count": 9,
     "metadata": {},
     "output_type": "execute_result"
    }
   ],
   "source": [
    "df_new.iloc[2]\n",
    "\n",
    "# here we can conclude that it take its inbuilt index.\n",
    "# access rows and columns based on their integer positions."
   ]
  },
  {
   "cell_type": "code",
   "execution_count": 10,
   "id": "ce6837db",
   "metadata": {},
   "outputs": [],
   "source": [
    "import pandas as pd\n",
    "import numpy as np\n",
    "\n",
    "columns = ['column_1', 'column_2', 'column_3', 'column_4', 'column_5', 'column_6']\n",
    "indices = [1,2,3,4,5,6]\n",
    "\n",
    "#Creating a dataframe:\n",
    "\n",
    "df1 = pd.DataFrame(np.random.rand(6,6), columns = columns, index = indices)"
   ]
  },
  {
   "cell_type": "code",
   "execution_count": 11,
   "id": "9891bf07",
   "metadata": {},
   "outputs": [
    {
     "data": {
      "text/html": [
       "<div>\n",
       "<style scoped>\n",
       "    .dataframe tbody tr th:only-of-type {\n",
       "        vertical-align: middle;\n",
       "    }\n",
       "\n",
       "    .dataframe tbody tr th {\n",
       "        vertical-align: top;\n",
       "    }\n",
       "\n",
       "    .dataframe thead th {\n",
       "        text-align: right;\n",
       "    }\n",
       "</style>\n",
       "<table border=\"1\" class=\"dataframe\">\n",
       "  <thead>\n",
       "    <tr style=\"text-align: right;\">\n",
       "      <th></th>\n",
       "      <th>column_1</th>\n",
       "      <th>column_2</th>\n",
       "      <th>column_3</th>\n",
       "      <th>column_4</th>\n",
       "      <th>column_5</th>\n",
       "      <th>column_6</th>\n",
       "    </tr>\n",
       "  </thead>\n",
       "  <tbody>\n",
       "    <tr>\n",
       "      <th>1</th>\n",
       "      <td>0.131836</td>\n",
       "      <td>0.271819</td>\n",
       "      <td>0.727114</td>\n",
       "      <td>0.101934</td>\n",
       "      <td>0.618012</td>\n",
       "      <td>0.107517</td>\n",
       "    </tr>\n",
       "    <tr>\n",
       "      <th>2</th>\n",
       "      <td>0.027169</td>\n",
       "      <td>0.651917</td>\n",
       "      <td>0.418604</td>\n",
       "      <td>0.349144</td>\n",
       "      <td>0.797140</td>\n",
       "      <td>0.513251</td>\n",
       "    </tr>\n",
       "    <tr>\n",
       "      <th>3</th>\n",
       "      <td>0.865612</td>\n",
       "      <td>0.071568</td>\n",
       "      <td>0.040256</td>\n",
       "      <td>0.336545</td>\n",
       "      <td>0.302609</td>\n",
       "      <td>0.546293</td>\n",
       "    </tr>\n",
       "    <tr>\n",
       "      <th>4</th>\n",
       "      <td>0.982045</td>\n",
       "      <td>0.206134</td>\n",
       "      <td>0.133448</td>\n",
       "      <td>0.572246</td>\n",
       "      <td>0.324107</td>\n",
       "      <td>0.646495</td>\n",
       "    </tr>\n",
       "    <tr>\n",
       "      <th>5</th>\n",
       "      <td>0.816957</td>\n",
       "      <td>0.876109</td>\n",
       "      <td>0.147127</td>\n",
       "      <td>0.439382</td>\n",
       "      <td>0.846254</td>\n",
       "      <td>0.908094</td>\n",
       "    </tr>\n",
       "    <tr>\n",
       "      <th>6</th>\n",
       "      <td>0.309533</td>\n",
       "      <td>0.075432</td>\n",
       "      <td>0.554199</td>\n",
       "      <td>0.656890</td>\n",
       "      <td>0.904052</td>\n",
       "      <td>0.939205</td>\n",
       "    </tr>\n",
       "  </tbody>\n",
       "</table>\n",
       "</div>"
      ],
      "text/plain": [
       "   column_1  column_2  column_3  column_4  column_5  column_6\n",
       "1  0.131836  0.271819  0.727114  0.101934  0.618012  0.107517\n",
       "2  0.027169  0.651917  0.418604  0.349144  0.797140  0.513251\n",
       "3  0.865612  0.071568  0.040256  0.336545  0.302609  0.546293\n",
       "4  0.982045  0.206134  0.133448  0.572246  0.324107  0.646495\n",
       "5  0.816957  0.876109  0.147127  0.439382  0.846254  0.908094\n",
       "6  0.309533  0.075432  0.554199  0.656890  0.904052  0.939205"
      ]
     },
     "execution_count": 11,
     "metadata": {},
     "output_type": "execute_result"
    }
   ],
   "source": [
    "df1"
   ]
  },
  {
   "cell_type": "markdown",
   "id": "33bfeb67",
   "metadata": {},
   "source": [
    "Q4. Write a code to find the following statistical measurements for the above dataframe df1:\n",
    "\n",
    "(i) mean of each and every column present in the dataframe.\n",
    "(ii) standard deviation of column, ‘column_2’"
   ]
  },
  {
   "cell_type": "code",
   "execution_count": 12,
   "id": "6f9667a4",
   "metadata": {},
   "outputs": [
    {
     "data": {
      "text/plain": [
       "column_1    0.522192\n",
       "column_2    0.358830\n",
       "column_3    0.336791\n",
       "column_4    0.409357\n",
       "column_5    0.632029\n",
       "column_6    0.610142\n",
       "dtype: float64"
      ]
     },
     "execution_count": 12,
     "metadata": {},
     "output_type": "execute_result"
    }
   ],
   "source": [
    "#  (i)\n",
    "df1.mean()"
   ]
  },
  {
   "cell_type": "code",
   "execution_count": 13,
   "id": "7ca7589f",
   "metadata": {},
   "outputs": [
    {
     "data": {
      "text/html": [
       "<div>\n",
       "<style scoped>\n",
       "    .dataframe tbody tr th:only-of-type {\n",
       "        vertical-align: middle;\n",
       "    }\n",
       "\n",
       "    .dataframe tbody tr th {\n",
       "        vertical-align: top;\n",
       "    }\n",
       "\n",
       "    .dataframe thead th {\n",
       "        text-align: right;\n",
       "    }\n",
       "</style>\n",
       "<table border=\"1\" class=\"dataframe\">\n",
       "  <thead>\n",
       "    <tr style=\"text-align: right;\">\n",
       "      <th></th>\n",
       "      <th>column_1</th>\n",
       "      <th>column_2</th>\n",
       "      <th>column_3</th>\n",
       "      <th>column_4</th>\n",
       "      <th>column_5</th>\n",
       "      <th>column_6</th>\n",
       "    </tr>\n",
       "  </thead>\n",
       "  <tbody>\n",
       "    <tr>\n",
       "      <th>count</th>\n",
       "      <td>6.000000</td>\n",
       "      <td>6.000000</td>\n",
       "      <td>6.000000</td>\n",
       "      <td>6.000000</td>\n",
       "      <td>6.000000</td>\n",
       "      <td>6.000000</td>\n",
       "    </tr>\n",
       "    <tr>\n",
       "      <th>mean</th>\n",
       "      <td>0.522192</td>\n",
       "      <td>0.358830</td>\n",
       "      <td>0.336791</td>\n",
       "      <td>0.409357</td>\n",
       "      <td>0.632029</td>\n",
       "      <td>0.610142</td>\n",
       "    </tr>\n",
       "    <tr>\n",
       "      <th>std</th>\n",
       "      <td>0.414473</td>\n",
       "      <td>0.330817</td>\n",
       "      <td>0.272604</td>\n",
       "      <td>0.196032</td>\n",
       "      <td>0.264832</td>\n",
       "      <td>0.304787</td>\n",
       "    </tr>\n",
       "    <tr>\n",
       "      <th>min</th>\n",
       "      <td>0.027169</td>\n",
       "      <td>0.071568</td>\n",
       "      <td>0.040256</td>\n",
       "      <td>0.101934</td>\n",
       "      <td>0.302609</td>\n",
       "      <td>0.107517</td>\n",
       "    </tr>\n",
       "    <tr>\n",
       "      <th>25%</th>\n",
       "      <td>0.176260</td>\n",
       "      <td>0.108108</td>\n",
       "      <td>0.136868</td>\n",
       "      <td>0.339695</td>\n",
       "      <td>0.397583</td>\n",
       "      <td>0.521511</td>\n",
       "    </tr>\n",
       "    <tr>\n",
       "      <th>50%</th>\n",
       "      <td>0.563245</td>\n",
       "      <td>0.238976</td>\n",
       "      <td>0.282865</td>\n",
       "      <td>0.394263</td>\n",
       "      <td>0.707576</td>\n",
       "      <td>0.596394</td>\n",
       "    </tr>\n",
       "    <tr>\n",
       "      <th>75%</th>\n",
       "      <td>0.853448</td>\n",
       "      <td>0.556893</td>\n",
       "      <td>0.520300</td>\n",
       "      <td>0.539030</td>\n",
       "      <td>0.833975</td>\n",
       "      <td>0.842694</td>\n",
       "    </tr>\n",
       "    <tr>\n",
       "      <th>max</th>\n",
       "      <td>0.982045</td>\n",
       "      <td>0.876109</td>\n",
       "      <td>0.727114</td>\n",
       "      <td>0.656890</td>\n",
       "      <td>0.904052</td>\n",
       "      <td>0.939205</td>\n",
       "    </tr>\n",
       "  </tbody>\n",
       "</table>\n",
       "</div>"
      ],
      "text/plain": [
       "       column_1  column_2  column_3  column_4  column_5  column_6\n",
       "count  6.000000  6.000000  6.000000  6.000000  6.000000  6.000000\n",
       "mean   0.522192  0.358830  0.336791  0.409357  0.632029  0.610142\n",
       "std    0.414473  0.330817  0.272604  0.196032  0.264832  0.304787\n",
       "min    0.027169  0.071568  0.040256  0.101934  0.302609  0.107517\n",
       "25%    0.176260  0.108108  0.136868  0.339695  0.397583  0.521511\n",
       "50%    0.563245  0.238976  0.282865  0.394263  0.707576  0.596394\n",
       "75%    0.853448  0.556893  0.520300  0.539030  0.833975  0.842694\n",
       "max    0.982045  0.876109  0.727114  0.656890  0.904052  0.939205"
      ]
     },
     "execution_count": 13,
     "metadata": {},
     "output_type": "execute_result"
    }
   ],
   "source": [
    "df1.describe()"
   ]
  },
  {
   "cell_type": "code",
   "execution_count": 14,
   "id": "973853ad",
   "metadata": {},
   "outputs": [
    {
     "data": {
      "text/plain": [
       "column_1    0.414473\n",
       "column_2    0.330817\n",
       "column_3    0.272604\n",
       "column_4    0.196032\n",
       "column_5    0.264832\n",
       "column_6    0.304787\n",
       "dtype: float64"
      ]
     },
     "execution_count": 14,
     "metadata": {},
     "output_type": "execute_result"
    }
   ],
   "source": [
    "df1.std()"
   ]
  },
  {
   "cell_type": "code",
   "execution_count": 16,
   "id": "9319fc36",
   "metadata": {},
   "outputs": [
    {
     "data": {
      "text/plain": [
       "0.35882984002456925"
      ]
     },
     "execution_count": 16,
     "metadata": {},
     "output_type": "execute_result"
    }
   ],
   "source": [
    "df1[\"column_2\"].mean()"
   ]
  },
  {
   "cell_type": "code",
   "execution_count": 15,
   "id": "7c973522",
   "metadata": {},
   "outputs": [
    {
     "data": {
      "text/plain": [
       "0.33081669091859084"
      ]
     },
     "execution_count": 15,
     "metadata": {},
     "output_type": "execute_result"
    }
   ],
   "source": [
    "df1[\"column_2\"].std()"
   ]
  },
  {
   "cell_type": "markdown",
   "id": "367fc09c",
   "metadata": {},
   "source": [
    "Q5. Replace the data present in the second row of column, ‘column_2’ by a string variable then find the \n",
    "mean of column, column_2.\n",
    "\n",
    "If you are getting errors in executing it then explain why.\n",
    "\n",
    "[Hint: To replace the data use df1.loc[] and equate this to string data of your choice.]"
   ]
  },
  {
   "cell_type": "code",
   "execution_count": 17,
   "id": "e8e63eeb",
   "metadata": {},
   "outputs": [
    {
     "data": {
      "text/html": [
       "<div>\n",
       "<style scoped>\n",
       "    .dataframe tbody tr th:only-of-type {\n",
       "        vertical-align: middle;\n",
       "    }\n",
       "\n",
       "    .dataframe tbody tr th {\n",
       "        vertical-align: top;\n",
       "    }\n",
       "\n",
       "    .dataframe thead th {\n",
       "        text-align: right;\n",
       "    }\n",
       "</style>\n",
       "<table border=\"1\" class=\"dataframe\">\n",
       "  <thead>\n",
       "    <tr style=\"text-align: right;\">\n",
       "      <th></th>\n",
       "      <th>column_1</th>\n",
       "      <th>column_2</th>\n",
       "      <th>column_3</th>\n",
       "      <th>column_4</th>\n",
       "      <th>column_5</th>\n",
       "      <th>column_6</th>\n",
       "    </tr>\n",
       "  </thead>\n",
       "  <tbody>\n",
       "    <tr>\n",
       "      <th>1</th>\n",
       "      <td>0.131836</td>\n",
       "      <td>0.271819</td>\n",
       "      <td>0.727114</td>\n",
       "      <td>0.101934</td>\n",
       "      <td>0.618012</td>\n",
       "      <td>0.107517</td>\n",
       "    </tr>\n",
       "    <tr>\n",
       "      <th>2</th>\n",
       "      <td>0.027169</td>\n",
       "      <td>0.651917</td>\n",
       "      <td>0.418604</td>\n",
       "      <td>0.349144</td>\n",
       "      <td>0.797140</td>\n",
       "      <td>0.513251</td>\n",
       "    </tr>\n",
       "    <tr>\n",
       "      <th>3</th>\n",
       "      <td>0.865612</td>\n",
       "      <td>0.071568</td>\n",
       "      <td>0.040256</td>\n",
       "      <td>0.336545</td>\n",
       "      <td>0.302609</td>\n",
       "      <td>0.546293</td>\n",
       "    </tr>\n",
       "    <tr>\n",
       "      <th>4</th>\n",
       "      <td>0.982045</td>\n",
       "      <td>0.206134</td>\n",
       "      <td>0.133448</td>\n",
       "      <td>0.572246</td>\n",
       "      <td>0.324107</td>\n",
       "      <td>0.646495</td>\n",
       "    </tr>\n",
       "    <tr>\n",
       "      <th>5</th>\n",
       "      <td>0.816957</td>\n",
       "      <td>0.876109</td>\n",
       "      <td>0.147127</td>\n",
       "      <td>0.439382</td>\n",
       "      <td>0.846254</td>\n",
       "      <td>0.908094</td>\n",
       "    </tr>\n",
       "    <tr>\n",
       "      <th>6</th>\n",
       "      <td>0.309533</td>\n",
       "      <td>0.075432</td>\n",
       "      <td>0.554199</td>\n",
       "      <td>0.656890</td>\n",
       "      <td>0.904052</td>\n",
       "      <td>0.939205</td>\n",
       "    </tr>\n",
       "  </tbody>\n",
       "</table>\n",
       "</div>"
      ],
      "text/plain": [
       "   column_1  column_2  column_3  column_4  column_5  column_6\n",
       "1  0.131836  0.271819  0.727114  0.101934  0.618012  0.107517\n",
       "2  0.027169  0.651917  0.418604  0.349144  0.797140  0.513251\n",
       "3  0.865612  0.071568  0.040256  0.336545  0.302609  0.546293\n",
       "4  0.982045  0.206134  0.133448  0.572246  0.324107  0.646495\n",
       "5  0.816957  0.876109  0.147127  0.439382  0.846254  0.908094\n",
       "6  0.309533  0.075432  0.554199  0.656890  0.904052  0.939205"
      ]
     },
     "execution_count": 17,
     "metadata": {},
     "output_type": "execute_result"
    }
   ],
   "source": [
    "df1"
   ]
  },
  {
   "cell_type": "code",
   "execution_count": 18,
   "id": "d93666d1",
   "metadata": {},
   "outputs": [],
   "source": [
    "df1.loc[2 , [\"column_2\"]] = \"Dhruv\""
   ]
  },
  {
   "cell_type": "code",
   "execution_count": 19,
   "id": "1a6262eb",
   "metadata": {},
   "outputs": [
    {
     "data": {
      "text/html": [
       "<div>\n",
       "<style scoped>\n",
       "    .dataframe tbody tr th:only-of-type {\n",
       "        vertical-align: middle;\n",
       "    }\n",
       "\n",
       "    .dataframe tbody tr th {\n",
       "        vertical-align: top;\n",
       "    }\n",
       "\n",
       "    .dataframe thead th {\n",
       "        text-align: right;\n",
       "    }\n",
       "</style>\n",
       "<table border=\"1\" class=\"dataframe\">\n",
       "  <thead>\n",
       "    <tr style=\"text-align: right;\">\n",
       "      <th></th>\n",
       "      <th>column_1</th>\n",
       "      <th>column_2</th>\n",
       "      <th>column_3</th>\n",
       "      <th>column_4</th>\n",
       "      <th>column_5</th>\n",
       "      <th>column_6</th>\n",
       "    </tr>\n",
       "  </thead>\n",
       "  <tbody>\n",
       "    <tr>\n",
       "      <th>1</th>\n",
       "      <td>0.131836</td>\n",
       "      <td>0.271819</td>\n",
       "      <td>0.727114</td>\n",
       "      <td>0.101934</td>\n",
       "      <td>0.618012</td>\n",
       "      <td>0.107517</td>\n",
       "    </tr>\n",
       "    <tr>\n",
       "      <th>2</th>\n",
       "      <td>0.027169</td>\n",
       "      <td>Dhruv</td>\n",
       "      <td>0.418604</td>\n",
       "      <td>0.349144</td>\n",
       "      <td>0.797140</td>\n",
       "      <td>0.513251</td>\n",
       "    </tr>\n",
       "    <tr>\n",
       "      <th>3</th>\n",
       "      <td>0.865612</td>\n",
       "      <td>0.071568</td>\n",
       "      <td>0.040256</td>\n",
       "      <td>0.336545</td>\n",
       "      <td>0.302609</td>\n",
       "      <td>0.546293</td>\n",
       "    </tr>\n",
       "    <tr>\n",
       "      <th>4</th>\n",
       "      <td>0.982045</td>\n",
       "      <td>0.206134</td>\n",
       "      <td>0.133448</td>\n",
       "      <td>0.572246</td>\n",
       "      <td>0.324107</td>\n",
       "      <td>0.646495</td>\n",
       "    </tr>\n",
       "    <tr>\n",
       "      <th>5</th>\n",
       "      <td>0.816957</td>\n",
       "      <td>0.876109</td>\n",
       "      <td>0.147127</td>\n",
       "      <td>0.439382</td>\n",
       "      <td>0.846254</td>\n",
       "      <td>0.908094</td>\n",
       "    </tr>\n",
       "    <tr>\n",
       "      <th>6</th>\n",
       "      <td>0.309533</td>\n",
       "      <td>0.075432</td>\n",
       "      <td>0.554199</td>\n",
       "      <td>0.656890</td>\n",
       "      <td>0.904052</td>\n",
       "      <td>0.939205</td>\n",
       "    </tr>\n",
       "  </tbody>\n",
       "</table>\n",
       "</div>"
      ],
      "text/plain": [
       "   column_1  column_2  column_3  column_4  column_5  column_6\n",
       "1  0.131836  0.271819  0.727114  0.101934  0.618012  0.107517\n",
       "2  0.027169     Dhruv  0.418604  0.349144  0.797140  0.513251\n",
       "3  0.865612  0.071568  0.040256  0.336545  0.302609  0.546293\n",
       "4  0.982045  0.206134  0.133448  0.572246  0.324107  0.646495\n",
       "5  0.816957  0.876109  0.147127  0.439382  0.846254  0.908094\n",
       "6  0.309533  0.075432  0.554199  0.656890  0.904052  0.939205"
      ]
     },
     "execution_count": 19,
     "metadata": {},
     "output_type": "execute_result"
    }
   ],
   "source": [
    "df1"
   ]
  },
  {
   "cell_type": "code",
   "execution_count": 20,
   "id": "7bef0748",
   "metadata": {
    "scrolled": true
   },
   "outputs": [
    {
     "name": "stderr",
     "output_type": "stream",
     "text": [
      "C:\\Users\\dhruv\\AppData\\Local\\Temp\\ipykernel_28724\\1877302743.py:1: FutureWarning: The default value of numeric_only in DataFrame.mean is deprecated. In a future version, it will default to False. In addition, specifying 'numeric_only=None' is deprecated. Select only valid columns or specify the value of numeric_only to silence this warning.\n",
      "  df1[[\"column_2\"]].mean()\n"
     ]
    },
    {
     "data": {
      "text/plain": [
       "Series([], dtype: float64)"
      ]
     },
     "execution_count": 20,
     "metadata": {},
     "output_type": "execute_result"
    }
   ],
   "source": [
    "df1[[\"column_2\"]].mean()"
   ]
  },
  {
   "cell_type": "code",
   "execution_count": 21,
   "id": "8659b7f8",
   "metadata": {},
   "outputs": [],
   "source": [
    "df1.loc[2 , [\"column_2\"]] = 0.935425"
   ]
  },
  {
   "cell_type": "code",
   "execution_count": 22,
   "id": "3538e2da",
   "metadata": {},
   "outputs": [
    {
     "data": {
      "text/plain": [
       "column_2    0.406081\n",
       "dtype: float64"
      ]
     },
     "execution_count": 22,
     "metadata": {},
     "output_type": "execute_result"
    }
   ],
   "source": [
    "df1[[\"column_2\"]].mean()"
   ]
  },
  {
   "cell_type": "raw",
   "id": "92edfe90",
   "metadata": {},
   "source": [
    " the data is missmatched \n",
    " for calculating the mean values of the columns should be numeric \n",
    " if columns contain non-numeric value then it produced error"
   ]
  },
  {
   "cell_type": "markdown",
   "id": "d3c2443e",
   "metadata": {},
   "source": [
    "Q6. What do you understand about the windows function in pandas and list the types of windows functions?"
   ]
  },
  {
   "cell_type": "raw",
   "id": "fc91c954",
   "metadata": {},
   "source": [
    "'''\n",
    "In pandas, the window functions are used to perform calculations on a set of data points within a defined window or range. \n",
    "These functions allow you to apply various operations, such as aggregations, transformations, or filtering, to subsets of \n",
    "data based on a specified window size or criteria.\n",
    "\n",
    "Window functions are typically used in combination with the rolling() or expanding() methods in pandas. Here's an overview\n",
    "of these two types of window functions:\n",
    "\n",
    "1. Rolling Window Functions:\n",
    "   - Rolling window functions operate on a defined window of consecutive data points. The window \"rolls\" or moves along the \n",
    "     data series.\n",
    "   - You can specify the window size using the window parameter, which can be a fixed integer or a time-based offset.\n",
    "   - Common rolling window functions include mean(), sum(), min(), max(), std(), var(), etc.\n",
    "   - Example: df['column'].rolling(window=3).mean() calculates the rolling mean for every 3 consecutive data points in \n",
    "     'column'.\n",
    "\n",
    "2. Expanding Window Functions:\n",
    "   - Expanding window functions include all data points from the start of the series up to the current point.\n",
    "   - These functions progressively incorporate more data points as they move through the series.\n",
    "   - Common expanding window functions include cumsum(), cumprod(), cummax(), cummin(), etc.\n",
    "   - Example: `df['column'].expanding().sum()` calculates the cumulative sum of all data points in 'column' from the beginning.\n",
    "\n",
    "Window functions provide flexibility in analyzing time series or sequential data by capturing trends, patterns, or summary \n",
    "statistics within specified windows. They are useful for tasks like calculating moving averages, identifying outliers, \n",
    "detecting trends, and more.\n",
    "\n",
    "Note that when using window functions, it's important to consider the window size, as it can impact the results and \n",
    "interpretation of the analysis. Additionally, missing or NaN values in the data can affect the calculations, so handling\n",
    "missing data appropriately is necessary.\n",
    "\n",
    "Pandas also offers more advanced window functions using the `rolling_apply()` method, where you can apply custom functions \n",
    "to the rolling window data.\n",
    "\n",
    "Overall, window functions in pandas provide powerful capabilities for analyzing and summarizing data within defined windows, \n",
    "facilitating exploratory data analysis, and supporting time series operations.\n",
    "'''"
   ]
  },
  {
   "cell_type": "markdown",
   "id": "2ee3fa1b",
   "metadata": {},
   "source": [
    "Q7. Write a code to print only the current month and year at the time of answering this question.\n",
    "\n",
    "[Hint: Use pandas.datetime function]"
   ]
  },
  {
   "cell_type": "code",
   "execution_count": 37,
   "id": "fae9a6c2",
   "metadata": {
    "scrolled": true
   },
   "outputs": [],
   "source": [
    "import datetime"
   ]
  },
  {
   "cell_type": "code",
   "execution_count": 40,
   "id": "8d46747c",
   "metadata": {},
   "outputs": [],
   "source": [
    "x = datetime.datetime.now()"
   ]
  },
  {
   "cell_type": "code",
   "execution_count": 41,
   "id": "b47d1a46",
   "metadata": {},
   "outputs": [
    {
     "data": {
      "text/plain": [
       "datetime.datetime(2023, 7, 20, 14, 0, 56, 140875)"
      ]
     },
     "execution_count": 41,
     "metadata": {},
     "output_type": "execute_result"
    }
   ],
   "source": [
    "x"
   ]
  },
  {
   "cell_type": "code",
   "execution_count": 42,
   "id": "64bdc607",
   "metadata": {},
   "outputs": [
    {
     "data": {
      "text/plain": [
       "2023"
      ]
     },
     "execution_count": 42,
     "metadata": {},
     "output_type": "execute_result"
    }
   ],
   "source": [
    "x.year"
   ]
  },
  {
   "cell_type": "code",
   "execution_count": 43,
   "id": "7b889e0a",
   "metadata": {},
   "outputs": [
    {
     "data": {
      "text/plain": [
       "7"
      ]
     },
     "execution_count": 43,
     "metadata": {},
     "output_type": "execute_result"
    }
   ],
   "source": [
    "x.month"
   ]
  },
  {
   "cell_type": "code",
   "execution_count": 44,
   "id": "2e915f8a",
   "metadata": {},
   "outputs": [
    {
     "data": {
      "text/plain": [
       "20"
      ]
     },
     "execution_count": 44,
     "metadata": {},
     "output_type": "execute_result"
    }
   ],
   "source": [
    "x.day"
   ]
  },
  {
   "cell_type": "code",
   "execution_count": 46,
   "id": "9228dcc6",
   "metadata": {},
   "outputs": [
    {
     "data": {
      "text/plain": [
       "datetime.date(2023, 7, 20)"
      ]
     },
     "execution_count": 46,
     "metadata": {},
     "output_type": "execute_result"
    }
   ],
   "source": [
    "x.date()"
   ]
  },
  {
   "cell_type": "code",
   "execution_count": 48,
   "id": "308ffa6d",
   "metadata": {},
   "outputs": [],
   "source": [
    "D = pd.to_datetime(\"today\")"
   ]
  },
  {
   "cell_type": "code",
   "execution_count": 49,
   "id": "4a4eed10",
   "metadata": {},
   "outputs": [
    {
     "data": {
      "text/plain": [
       "Timestamp('2023-07-20 14:07:31.539006')"
      ]
     },
     "execution_count": 49,
     "metadata": {},
     "output_type": "execute_result"
    }
   ],
   "source": [
    "D"
   ]
  },
  {
   "cell_type": "code",
   "execution_count": 50,
   "id": "7e07f3c2",
   "metadata": {},
   "outputs": [
    {
     "data": {
      "text/plain": [
       "7"
      ]
     },
     "execution_count": 50,
     "metadata": {},
     "output_type": "execute_result"
    }
   ],
   "source": [
    "D.month"
   ]
  },
  {
   "cell_type": "code",
   "execution_count": 51,
   "id": "74f443a1",
   "metadata": {},
   "outputs": [
    {
     "data": {
      "text/plain": [
       "2023"
      ]
     },
     "execution_count": 51,
     "metadata": {},
     "output_type": "execute_result"
    }
   ],
   "source": [
    "D.year"
   ]
  },
  {
   "cell_type": "markdown",
   "id": "3bccfb48",
   "metadata": {},
   "source": [
    "Q8. Write \n",
    "a Python program that takes in two dates as input (in the format YYYY-MM-DD) and \n",
    "calculates the difference between them in days, hours, and minutes using Pandas time delta. The \n",
    "program should prompt the user to enter the dates and display the result."
   ]
  },
  {
   "cell_type": "code",
   "execution_count": null,
   "id": "187225b5",
   "metadata": {},
   "outputs": [],
   "source": [
    "pd.Timedelta()"
   ]
  },
  {
   "cell_type": "code",
   "execution_count": 52,
   "id": "b59b156b",
   "metadata": {},
   "outputs": [
    {
     "data": {
      "text/plain": [
       "Timestamp('2023-07-20 14:07:31.539006')"
      ]
     },
     "execution_count": 52,
     "metadata": {},
     "output_type": "execute_result"
    }
   ],
   "source": [
    "D"
   ]
  },
  {
   "cell_type": "code",
   "execution_count": 53,
   "id": "9fbb79fa",
   "metadata": {},
   "outputs": [],
   "source": [
    "d = pd.to_datetime(\"2023/08/02 13:04:30\")"
   ]
  },
  {
   "cell_type": "code",
   "execution_count": 54,
   "id": "37c11930",
   "metadata": {},
   "outputs": [
    {
     "data": {
      "text/plain": [
       "Timestamp('2023-08-02 13:04:30')"
      ]
     },
     "execution_count": 54,
     "metadata": {},
     "output_type": "execute_result"
    }
   ],
   "source": [
    "d"
   ]
  },
  {
   "cell_type": "code",
   "execution_count": 58,
   "id": "156a7d00",
   "metadata": {},
   "outputs": [],
   "source": [
    "x =d-D"
   ]
  },
  {
   "cell_type": "code",
   "execution_count": 59,
   "id": "46350978",
   "metadata": {},
   "outputs": [
    {
     "data": {
      "text/plain": [
       "Timestamp('2023-08-02 13:04:30')"
      ]
     },
     "execution_count": 59,
     "metadata": {},
     "output_type": "execute_result"
    }
   ],
   "source": [
    "D+x"
   ]
  },
  {
   "cell_type": "code",
   "execution_count": 64,
   "id": "f2ded381",
   "metadata": {},
   "outputs": [
    {
     "name": "stdout",
     "output_type": "stream",
     "text": [
      "Enter a starting date (use this format YYYY-MM-DD):2023-07-20 14:07:31.539006\n",
      "Enter a ending date (use this format YYYY-MM-DD):2023-08-02 13:04:30\n",
      "The Timedelta between your date is : 12 days 22:56:58.460994\n"
     ]
    }
   ],
   "source": [
    "try:\n",
    "    User_date1 = pd.to_datetime(input(\"Enter a starting date (use this format YYYY-MM-DD):\"))\n",
    "    User_date2 = pd.to_datetime(input(\"Enter a ending date (use this format YYYY-MM-DD):\"))\n",
    "    if User_date1 >= User_date2:\n",
    "        x = User_date1 - User_date2\n",
    "    else :\n",
    "        x = User_date2 - User_date1 \n",
    "    print(f\"The Timedelta between your date is : {x.days}\")\n",
    "except Exception as e :\n",
    "    print(e)\n",
    "    print(\"you enter a wrong format. \\nFor date fntering use this format 'YYYY-MM-DD' \")"
   ]
  },
  {
   "cell_type": "markdown",
   "id": "828c3ec9",
   "metadata": {},
   "source": [
    "Q9. Write a Python program that reads a CSV file containing categorical data and converts a specified \n",
    "column to a categorical data type. The program should prompt the user to enter the file path, column \n",
    "name, and category order, and then display the sorted data."
   ]
  },
  {
   "cell_type": "code",
   "execution_count": 238,
   "id": "d19d0ca5",
   "metadata": {},
   "outputs": [
    {
     "name": "stdout",
     "output_type": "stream",
     "text": [
      "Enter a file pathC:\\\\Users\\\\dhruv\\\\Downloads\\\\student.csv\n",
      "enter a order (seprate by coma)male,female\n",
      "Enter a columns to convert categoricalgender\n",
      "male      18\n",
      "female    17\n",
      "Name: gender, dtype: int64\n",
      "    id         name  class  mark  gender\n",
      "17  18        Honny   Five    75    male\n",
      "24  25     Giff Tow  Seven    88    male\n",
      "25  26       Crelea  Seven    79    male\n",
      "18  19        Tinny   Nine    18    male\n",
      "33  34     Gain Toe  Seven    69    male\n",
      "16  17        Tumyu    Six    54    male\n",
      "15  16        Gimmy   Four    88    male\n",
      "14  15     Tade Row   Four    88    male\n",
      "23  24    Tiddy Now  Seven    78    male\n",
      "28  29  Tess Played  Seven    55    male\n",
      "8    9      Tes Qry    Six    78    male\n",
      "7    8       Asruid   Five    85    male\n",
      "6    7  My John Rob  Fifth    78    male\n",
      "5    6    Alex John   Four    55    male\n",
      "2    3       Arnold  Three    55    male\n",
      "1    2     Max Ruin  Three    85    male\n",
      "30  31  Marry Toeey   Four    88    male\n",
      "22  23        Herod  Eight    79    male\n",
      "29  30    Reppy Red    Six    79  female\n",
      "27  28    Rojj Base  Seven    86  female\n",
      "26  27     Big Nose  Three    81  female\n",
      "31  32    Binn Rott  Seven    90  female\n",
      "32  33    Kenn Rein    Six    96  female\n",
      "0    1     John Deo   Four    75  female\n",
      "20  21   Babby John   Four    69  female\n",
      "19  20       Jackly   Nine    65  female\n",
      "13  14         Bigy  Seven    88  female\n",
      "12  13          Kty  Seven    88  female\n",
      "11  12        Recky    Six    94  female\n",
      "10  11       Ronald    Six    89  female\n",
      "9   10     Big John   Four    55  female\n",
      "4    5    John Mike   Four    60  female\n",
      "3    4   Krish Star   Four    60  female\n",
      "21  22       Reggid  Seven    55  female\n",
      "34  35   Rows Noump    Six    88  female\n"
     ]
    }
   ],
   "source": [
    "class my_ex(Exception):\n",
    "    def __init__(self,meg):\n",
    "        self.meg = meg\n",
    "\n",
    "try :\n",
    "    df = pd.read_csv(input(\"Enter a file path\"))\n",
    "    cate = input(\"enter a order (seprate by coma)\").split(\",\")\n",
    "    \n",
    "    try :\n",
    "        if (len(cate) <= 1):\n",
    "            raise my_ex(\"give me a order.\")\n",
    "    except my_ex as e:\n",
    "        print(e)\n",
    "        \n",
    "    columns = df.columns.values\n",
    "    c_n = input(\"Enter a columns to convert categorical\")\n",
    "    try :\n",
    "        if c_n not in columns:\n",
    "            raise my_ex(\"enter a column name right\")\n",
    "    except my_ex as e:\n",
    "        print(e)\n",
    "        \n",
    "\n",
    "    try:\n",
    "        df[c_n]= pd.Categorical(df[c_n] , categories=cate , ordered=True)\n",
    "        print(df[c_n].value_counts())\n",
    "        new_df = df.sort_values(by=c_n)\n",
    "        print(new_df)\n",
    "        \n",
    "    except Exception as e :\n",
    "        print(e)\n",
    "except Exception as e:\n",
    "    print(e)"
   ]
  },
  {
   "cell_type": "markdown",
   "id": "4a501757",
   "metadata": {},
   "source": [
    "Q10. Write a Python program that reads a CSV file containing sales data for different products and visualizes the data using a stacked bar chart to show the sales of each product category over time. The program should prompt the user to enter the file path and display the chart."
   ]
  },
  {
   "cell_type": "code",
   "execution_count": 300,
   "id": "dc1061cd",
   "metadata": {},
   "outputs": [
    {
     "name": "stdout",
     "output_type": "stream",
     "text": [
      "Enter path to the fileC:\\\\Users\\\\dhruv\\\\Downloads\\\\my_new.xlsx\n"
     ]
    },
    {
     "data": {
      "image/png": "[encoded data removed]",
      "text/plain": [
       "<Figure size 640x480 with 1 Axes>"
      ]
     },
     "metadata": {},
     "output_type": "display_data"
    }
   ],
   "source": [
    "try:\n",
    "    df = pd.read_excel(input(\"Enter path to the file\"))\n",
    "    df.plot(x=df.columns[0] , y=df.columns[1:len(df.columns)] , kind=\"bar\")\n",
    "except FileNotFoundError as e:\n",
    "    print(e)\n",
    "    \n",
    "#     "
   ]
  },
  {
   "cell_type": "markdown",
   "id": "cc7f50a1",
   "metadata": {},
   "source": [
    "Q11. You are given a CSV file containing student data that includes the student ID and their test score. Write \n",
    "a Python program that reads the CSV file, calculates the mean, median, and mode of the test scores, and \n",
    "displays the results in a table.\n",
    "The program should do the followingM\n",
    "I Prompt the user to enter the file path of the CSV file containing the student dataR\n",
    "I Read the CSV file into a Pandas DataFrameR\n",
    "I Calculate the mean, median, and mode of the test scores using Pandas toolsR\n",
    "I Display the mean, median, and mode in a table.\n",
    "\n",
    "Assume the CSV file contains the following columnsM\n",
    "I Student ID: The ID of the studentR\n",
    "I Test Score: The score of the student's test.\n",
    "Example usage of the program:\n",
    "\n",
    "Enter the file path of the CSV file containing the student data: student_data.csv\n",
    "\n",
    "\n",
    "+-----------+--------+\n",
    "\n",
    "| Statistic | Value  |\n",
    "\n",
    "+-----------+--------+\n",
    "\n",
    "| Mean      | 79.6   |\n",
    "\n",
    "| Median    | 82     |\n",
    "\n",
    "| Mode      | 85, 90 |\n",
    "\n",
    "+-----------+--------+\n",
    "\n",
    "\n",
    "Assume that the CSV file student_data.csv contains the following data:\n",
    "\n",
    "Student ID,Test Score\n",
    "\n",
    "1,85\n",
    "\n",
    "2,90\n",
    "\n",
    "3,80\n",
    "\n",
    "4,75\n",
    "\n",
    "5,85\n",
    "\n",
    "6,82\n",
    "\n",
    "7,78\n",
    "\n",
    "8,85\n",
    "\n",
    "9,90\n",
    "\n",
    "10,85\n",
    "\n",
    "\n",
    "The program should calculate the mean, median, and mode of the test scores and display the results \n",
    "in a table."
   ]
  },
  {
   "cell_type": "code",
   "execution_count": 485,
   "id": "4714824e",
   "metadata": {},
   "outputs": [
    {
     "name": "stdout",
     "output_type": "stream",
     "text": [
      "enter a path of fileC:\\\\Users\\\\dhruv\\\\Downloads\\\\student.xlsx\n",
      "+-----------+--------+\n",
      "\n",
      "| Statistic | Value |\n",
      "+-----------+--------+\n",
      "\n",
      "\n",
      "| Mean | 83.5 |\n",
      "\n",
      "| Median | 85.0 |\n",
      "\n",
      "| Mode | 85 | \n",
      "\n",
      "+-----------+--------+\n"
     ]
    }
   ],
   "source": [
    "try :\n",
    "    try :\n",
    "        df = pd.read_excel(input(\"enter a path of file\"))\n",
    "    except Exception as e :\n",
    "        print(e)\n",
    "    try :\n",
    "        mean = df[\"Test Score\"].mean()\n",
    "        median =df[\"Test Score\"].median()\n",
    "        mode = df[\"Test Score\"].mode().values\n",
    "        \n",
    "        formate = f\"+-----------+--------+\\n\\n| Statistic | Value |\\n+-----------+--------+\\n\\n\\n| Mean | {mean} |\\n\\n| Median | {median} |\\n\\n| Mode | {mode[0]} | \\n\\n+-----------+--------+\"\n",
    "        print(formate)\n",
    "    except Exception as e :\n",
    "        print(e)\n",
    "        \n",
    "except Exception as e :\n",
    "    print(e)"
   ]
  },
  {
   "cell_type": "code",
   "execution_count": null,
   "id": "d44b4087",
   "metadata": {},
   "outputs": [],
   "source": []
  }
 ],
 "metadata": {
  "kernelspec": {
   "display_name": "Python 3 (ipykernel)",
   "language": "python",
   "name": "python3"
  },
  "language_info": {
   "codemirror_mode": {
    "name": "ipython",
    "version": 3
   },
   "file_extension": ".py",
   "mimetype": "text/x-python",
   "name": "python",
   "nbconvert_exporter": "python",
   "pygments_lexer": "ipython3",
   "version": "3.9.7"
  }
 },
 "nbformat": 4,
 "nbformat_minor": 5
}
