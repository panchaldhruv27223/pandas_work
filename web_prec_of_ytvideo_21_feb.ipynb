{
 "cells": [
  {
   "cell_type": "markdown",
   "id": "7144dd7e",
   "metadata": {},
   "source": [
    "Q1. What is Web Scraping? Why is it Used? Give three areas where Web Scraping is used to get data."
   ]
  },
  {
   "cell_type": "markdown",
   "id": "c699b8f6",
   "metadata": {},
   "source": [
    "in web scraping we have two thing 1. web\n",
    "                                  2. scraping\n",
    "    \n",
    "    web : www(wrold wide web)\n",
    "    scraping : scraping means scrap something \n",
    "    web scraping means we scrap(extract) the data from www or we can say website.\n",
    "    \n",
    "    why it is used ?\n",
    "    -as we know as the time goes internet is also grow as digital data is also grow.\n",
    "    so, extract the data is hard manually, so we need to web scrapping. web scraping \n",
    "    -is made our task easy to get the data from websites.\n",
    "    -is speedy.\n",
    "    -can handle large amount of data.\n",
    "    \n",
    "    area where web scrapping is used :-\n",
    "        -text scraping\n",
    "        -audio, video scraping\n",
    "        -digitalor link scraping\n",
    "        -Ecommerce\n",
    "        -data analysis\n",
    "        "
   ]
  },
  {
   "cell_type": "markdown",
   "id": "241e634e",
   "metadata": {},
   "source": [
    "Q2. What are the different methods used for Web Scraping?"
   ]
  },
  {
   "cell_type": "markdown",
   "id": "a5478f0b",
   "metadata": {},
   "source": [
    "1. Web Scraping Libraries:-\n",
    "    Beautifu soup,\n",
    "    scrapy,\n",
    "    puppeteer,\n",
    "    cheerio,\n",
    "    selenium.\n",
    "    \n",
    "2. Web Scraping Tools:-\n",
    "    in-house web scraper,\n",
    "    outsourced web scraper.\n",
    "    \n",
    "3. Web Scraping APIs\n",
    "    \n",
    "4. Optical Character Recognition (OCR):-\n",
    "    Optical Character Recognition (OCR) is a technology that allows users to extract text data from images (screen scraping) or scanned documents on web pages.\n",
    "    OCR software reads text elements in non-text formats, such as PDFs or images.\n",
    "    It captures web data elements from sites using a screenshot or another method to extract the desired data from the recognized text.\n",
    "    However, there are some limitations you must be aware of when extracting data using OCR.\n",
    "\n",
    "5. Headless Browsers:-\n",
    "    Headless browsers such as PhantomJS, Puppeteer, or Selenium enable users to collect web data in a headless mode, meaning that it runs without a graphical user interface.\n",
    "    Headless browsers can be a powerful tool for scraping dynamic and interactive websites that employ client-side or server-side scripting.\n",
    "    Web crawlers can access and extract data that may not be visible in the HTML code using headless browsers. \n",
    "\n",
    "6. HTML Parsing\n",
    "\n",
    "7. DOM Parsing\n",
    "\n",
    "8. Manual Navigation"
   ]
  },
  {
   "cell_type": "markdown",
   "id": "5e0379a7",
   "metadata": {},
   "source": [
    "Q3. What is Beautiful Soup? Why is it used?"
   ]
  },
  {
   "cell_type": "markdown",
   "id": "db1ecca3",
   "metadata": {},
   "source": [
    "Beautiful soup is a python laibrary.\n",
    "Specifically designed for parsing and extracting web data from HTML and XML sites.\n",
    "You can use Beautiful Soup to collect data from static websites that do not require JavaScript to load.\n",
    "\n",
    "reason why we use beautiful soup:\n",
    "    Easy-to-use\n",
    "    Robust parsing\n",
    "    Data extraction\n",
    "    Integration with other library\n",
    "    \n",
    "Overall, Beautiful Soup simplifies the process of web scraping by providing an easy-to-use API, robust parsing capabilities, and powerful data extraction features.\n",
    "It is widely used in the Python community for extracting data from websites and performing various web scraping tasks."
   ]
  },
  {
   "cell_type": "markdown",
   "id": "b623c519",
   "metadata": {},
   "source": [
    "Q4. Why is flask used in this Web Scraping project?"
   ]
  },
  {
   "cell_type": "markdown",
   "id": "0d9cc410",
   "metadata": {},
   "source": [
    "flask is used for web api it is not a tool for web scraping.\n",
    "\n",
    "flask is commonly used in web scraping projects because it is a lightweight \n",
    "web framework for Python that provides a simple and efficient way to build web applications.\n",
    "\n",
    "flask is easy to use and beginner frindly and robust, request handling."
   ]
  },
  {
   "cell_type": "markdown",
   "id": "aa0dcdf8",
   "metadata": {},
   "source": [
    "Q5. Write the names of AWS services used in this project. Also, explain the use of each service."
   ]
  },
  {
   "cell_type": "markdown",
   "id": "bbf69db7",
   "metadata": {},
   "source": [
    "in our project we use two services of aws :\n",
    "    1. code pipline \n",
    "    2. Elastic Beanstalk\n",
    "    "
   ]
  },
  {
   "cell_type": "markdown",
   "id": "8d6fc386",
   "metadata": {},
   "source": [
    "1. Code pipline : \n",
    "\n",
    "  AWS CodePipeline simplifies and automates the process of building, testing, and deploying applications,\n",
    "    allowing you to maintain a rapid and reliable software release cycle.\n",
    "    \n",
    "  In our project we connect code pipeline to out github repository and Elastic beanstalk.\n",
    "    "
   ]
  },
  {
   "cell_type": "markdown",
   "id": "1e70f76b",
   "metadata": {},
   "source": [
    "2. Elastic beanstalk:\n",
    "\n",
    " Elastic Beanstalk is a platform within AWS that is used for deploying and scaling web applications.\n",
    "    In simple terms this platform as a service (PaaS) takes your application code and deploys it while provisioning \n",
    "    the supporting architecture and compute resources required for your code to run. Elastic Beanstalk also fully \n",
    "    manages the patching and security updates for those provisioned resources. \n",
    "\n",
    " There are many PaaS solutions in the cloud computing space including Redhat Open Shift, Google App Engine, Scalingo,\n",
    "    Python Anywhere, Azure App Service, however AWS Elastic Beanstalk remains one of the leading PaaS choices among app \n",
    "    developers.\n",
    "\n",
    " There is no charge to use Elastic Beanstalk to deploy your applications, you are only charged for the resources that \n",
    "    are created to support your application.\n",
    "\n",
    " AWS Elastic Beanstalk allows you to quickly deploy applications and services without having to worry about \n",
    "    configuring underlying resources, services, operating systems or web servers.\n",
    "\n",
    " Elastic Beanstalk takes care of the hosting infrastructure, coding language interpreter, operating system, security,\n",
    "    https service and application layer. All you need to worry about is writing your code.\n",
    "    \n",
    " In our project we connect beanstalk to our codepipeline."
   ]
  },
  {
   "cell_type": "markdown",
   "id": "1829b2a1",
   "metadata": {},
   "source": [
    " "
   ]
  }
 ],
 "metadata": {
  "kernelspec": {
   "display_name": "Python 3 (ipykernel)",
   "language": "python",
   "name": "python3"
  },
  "language_info": {
   "codemirror_mode": {
    "name": "ipython",
    "version": 3
   },
   "file_extension": ".py",
   "mimetype": "text/x-python",
   "name": "python",
   "nbconvert_exporter": "python",
   "pygments_lexer": "ipython3",
   "version": "3.9.7"
  }
 },
 "nbformat": 4,
 "nbformat_minor": 5
}
